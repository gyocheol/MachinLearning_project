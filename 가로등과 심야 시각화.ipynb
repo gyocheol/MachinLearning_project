{
 "cells": [
  {
   "cell_type": "code",
   "execution_count": 1,
   "id": "5ded3bd8",
   "metadata": {},
   "outputs": [],
   "source": [
    "import pandas as pd\n",
    "import numpy as np\n",
    "import matplotlib.pyplot as plt\n",
    "import seaborn as sns\n",
    "\n",
    "import warnings\n",
    "warnings.filterwarnings(\"ignore\")\n",
    "\n",
    "from sklearn.model_selection import train_test_split, cross_val_score\n",
    "from sklearn.preprocessing import StandardScaler, LabelEncoder\n",
    "from sklearn.ensemble import RandomForestClassifier, RandomForestRegressor\n",
    "\n",
    "import matplotlib\n",
    "matplotlib.rcParams['axes.unicode_minus'] = False\n",
    "\n",
    "import matplotlib\n",
    "from matplotlib import font_manager, rc\n",
    "import platform\n",
    "\n",
    "if platform.system() == 'Windows':\n",
    "# 윈도우인 경우\n",
    "    font_name = font_manager.FontProperties(fname=\"c:/Windows/Fonts/malgun.ttf\").get_name()\n",
    "    rc('font', family=font_name)\n",
    "else:    \n",
    "# Mac 인 경우\n",
    "    rc('font', family='AppleGothic')\n",
    "    \n",
    "matplotlib.rcParams['axes.unicode_minus'] = False "
   ]
  },
  {
   "cell_type": "code",
   "execution_count": 2,
   "id": "3c6e7d5f",
   "metadata": {},
   "outputs": [],
   "source": [
    "df = pd.read_csv('./datasets/last_elec.csv')\n",
    "df.drop('합계 일사량', axis=1, inplace=True)"
   ]
  },
  {
   "cell_type": "code",
   "execution_count": 3,
   "id": "b259aaac",
   "metadata": {},
   "outputs": [
    {
     "data": {
      "text/html": [
       "<div>\n",
       "<style scoped>\n",
       "    .dataframe tbody tr th:only-of-type {\n",
       "        vertical-align: middle;\n",
       "    }\n",
       "\n",
       "    .dataframe tbody tr th {\n",
       "        vertical-align: top;\n",
       "    }\n",
       "\n",
       "    .dataframe thead th {\n",
       "        text-align: right;\n",
       "    }\n",
       "</style>\n",
       "<table border=\"1\" class=\"dataframe\">\n",
       "  <thead>\n",
       "    <tr style=\"text-align: right;\">\n",
       "      <th></th>\n",
       "      <th>시도</th>\n",
       "      <th>시군구</th>\n",
       "      <th>계약종별</th>\n",
       "      <th>년도</th>\n",
       "      <th>월</th>\n",
       "      <th>전력 사용량</th>\n",
       "      <th>확진자</th>\n",
       "      <th>평균기온</th>\n",
       "      <th>평균현지기압</th>\n",
       "      <th>평균상대습도</th>\n",
       "      <th>월합강수량</th>\n",
       "      <th>평균풍속</th>\n",
       "      <th>합계 일조시간</th>\n",
       "      <th>일조율</th>\n",
       "    </tr>\n",
       "  </thead>\n",
       "  <tbody>\n",
       "    <tr>\n",
       "      <th>0</th>\n",
       "      <td>서울특별시</td>\n",
       "      <td>종로구</td>\n",
       "      <td>주택용</td>\n",
       "      <td>2015</td>\n",
       "      <td>1</td>\n",
       "      <td>2.414819e+07</td>\n",
       "      <td>0.0</td>\n",
       "      <td>-0.9</td>\n",
       "      <td>1013.8</td>\n",
       "      <td>56</td>\n",
       "      <td>11.3</td>\n",
       "      <td>2.6</td>\n",
       "      <td>193.3</td>\n",
       "      <td>62.94</td>\n",
       "    </tr>\n",
       "    <tr>\n",
       "      <th>1</th>\n",
       "      <td>서울특별시</td>\n",
       "      <td>종로구</td>\n",
       "      <td>일반용</td>\n",
       "      <td>2015</td>\n",
       "      <td>1</td>\n",
       "      <td>1.181337e+08</td>\n",
       "      <td>0.0</td>\n",
       "      <td>-0.9</td>\n",
       "      <td>1013.8</td>\n",
       "      <td>56</td>\n",
       "      <td>11.3</td>\n",
       "      <td>2.6</td>\n",
       "      <td>193.3</td>\n",
       "      <td>62.94</td>\n",
       "    </tr>\n",
       "    <tr>\n",
       "      <th>2</th>\n",
       "      <td>서울특별시</td>\n",
       "      <td>종로구</td>\n",
       "      <td>교육용</td>\n",
       "      <td>2015</td>\n",
       "      <td>1</td>\n",
       "      <td>9.619909e+06</td>\n",
       "      <td>0.0</td>\n",
       "      <td>-0.9</td>\n",
       "      <td>1013.8</td>\n",
       "      <td>56</td>\n",
       "      <td>11.3</td>\n",
       "      <td>2.6</td>\n",
       "      <td>193.3</td>\n",
       "      <td>62.94</td>\n",
       "    </tr>\n",
       "    <tr>\n",
       "      <th>3</th>\n",
       "      <td>서울특별시</td>\n",
       "      <td>종로구</td>\n",
       "      <td>산업용</td>\n",
       "      <td>2015</td>\n",
       "      <td>1</td>\n",
       "      <td>6.580369e+06</td>\n",
       "      <td>0.0</td>\n",
       "      <td>-0.9</td>\n",
       "      <td>1013.8</td>\n",
       "      <td>56</td>\n",
       "      <td>11.3</td>\n",
       "      <td>2.6</td>\n",
       "      <td>193.3</td>\n",
       "      <td>62.94</td>\n",
       "    </tr>\n",
       "    <tr>\n",
       "      <th>4</th>\n",
       "      <td>서울특별시</td>\n",
       "      <td>종로구</td>\n",
       "      <td>농사용</td>\n",
       "      <td>2015</td>\n",
       "      <td>1</td>\n",
       "      <td>2.848000e+03</td>\n",
       "      <td>0.0</td>\n",
       "      <td>-0.9</td>\n",
       "      <td>1013.8</td>\n",
       "      <td>56</td>\n",
       "      <td>11.3</td>\n",
       "      <td>2.6</td>\n",
       "      <td>193.3</td>\n",
       "      <td>62.94</td>\n",
       "    </tr>\n",
       "    <tr>\n",
       "      <th>...</th>\n",
       "      <td>...</td>\n",
       "      <td>...</td>\n",
       "      <td>...</td>\n",
       "      <td>...</td>\n",
       "      <td>...</td>\n",
       "      <td>...</td>\n",
       "      <td>...</td>\n",
       "      <td>...</td>\n",
       "      <td>...</td>\n",
       "      <td>...</td>\n",
       "      <td>...</td>\n",
       "      <td>...</td>\n",
       "      <td>...</td>\n",
       "      <td>...</td>\n",
       "    </tr>\n",
       "    <tr>\n",
       "      <th>43916</th>\n",
       "      <td>울산광역시</td>\n",
       "      <td>울주군</td>\n",
       "      <td>교육용</td>\n",
       "      <td>2022</td>\n",
       "      <td>1</td>\n",
       "      <td>9.139668e+06</td>\n",
       "      <td>2164.0</td>\n",
       "      <td>2.6</td>\n",
       "      <td>1012.6</td>\n",
       "      <td>39</td>\n",
       "      <td>0.9</td>\n",
       "      <td>2.3</td>\n",
       "      <td>235.2</td>\n",
       "      <td>75.34</td>\n",
       "    </tr>\n",
       "    <tr>\n",
       "      <th>43917</th>\n",
       "      <td>울산광역시</td>\n",
       "      <td>울주군</td>\n",
       "      <td>산업용</td>\n",
       "      <td>2022</td>\n",
       "      <td>1</td>\n",
       "      <td>1.030417e+09</td>\n",
       "      <td>2164.0</td>\n",
       "      <td>2.6</td>\n",
       "      <td>1012.6</td>\n",
       "      <td>39</td>\n",
       "      <td>0.9</td>\n",
       "      <td>2.3</td>\n",
       "      <td>235.2</td>\n",
       "      <td>75.34</td>\n",
       "    </tr>\n",
       "    <tr>\n",
       "      <th>43918</th>\n",
       "      <td>울산광역시</td>\n",
       "      <td>울주군</td>\n",
       "      <td>농사용</td>\n",
       "      <td>2022</td>\n",
       "      <td>1</td>\n",
       "      <td>6.842901e+06</td>\n",
       "      <td>2164.0</td>\n",
       "      <td>2.6</td>\n",
       "      <td>1012.6</td>\n",
       "      <td>39</td>\n",
       "      <td>0.9</td>\n",
       "      <td>2.3</td>\n",
       "      <td>235.2</td>\n",
       "      <td>75.34</td>\n",
       "    </tr>\n",
       "    <tr>\n",
       "      <th>43919</th>\n",
       "      <td>울산광역시</td>\n",
       "      <td>울주군</td>\n",
       "      <td>가로등</td>\n",
       "      <td>2022</td>\n",
       "      <td>1</td>\n",
       "      <td>2.703994e+06</td>\n",
       "      <td>2164.0</td>\n",
       "      <td>2.6</td>\n",
       "      <td>1012.6</td>\n",
       "      <td>39</td>\n",
       "      <td>0.9</td>\n",
       "      <td>2.3</td>\n",
       "      <td>235.2</td>\n",
       "      <td>75.34</td>\n",
       "    </tr>\n",
       "    <tr>\n",
       "      <th>43920</th>\n",
       "      <td>울산광역시</td>\n",
       "      <td>울주군</td>\n",
       "      <td>심 야</td>\n",
       "      <td>2022</td>\n",
       "      <td>1</td>\n",
       "      <td>6.547839e+06</td>\n",
       "      <td>2164.0</td>\n",
       "      <td>2.6</td>\n",
       "      <td>1012.6</td>\n",
       "      <td>39</td>\n",
       "      <td>0.9</td>\n",
       "      <td>2.3</td>\n",
       "      <td>235.2</td>\n",
       "      <td>75.34</td>\n",
       "    </tr>\n",
       "  </tbody>\n",
       "</table>\n",
       "<p>43921 rows × 14 columns</p>\n",
       "</div>"
      ],
      "text/plain": [
       "          시도  시군구 계약종별    년도  월        전력 사용량     확진자  평균기온  평균현지기압  평균상대습도  \\\n",
       "0      서울특별시  종로구  주택용  2015  1  2.414819e+07     0.0  -0.9  1013.8      56   \n",
       "1      서울특별시  종로구  일반용  2015  1  1.181337e+08     0.0  -0.9  1013.8      56   \n",
       "2      서울특별시  종로구  교육용  2015  1  9.619909e+06     0.0  -0.9  1013.8      56   \n",
       "3      서울특별시  종로구  산업용  2015  1  6.580369e+06     0.0  -0.9  1013.8      56   \n",
       "4      서울특별시  종로구  농사용  2015  1  2.848000e+03     0.0  -0.9  1013.8      56   \n",
       "...      ...  ...  ...   ... ..           ...     ...   ...     ...     ...   \n",
       "43916  울산광역시  울주군  교육용  2022  1  9.139668e+06  2164.0   2.6  1012.6      39   \n",
       "43917  울산광역시  울주군  산업용  2022  1  1.030417e+09  2164.0   2.6  1012.6      39   \n",
       "43918  울산광역시  울주군  농사용  2022  1  6.842901e+06  2164.0   2.6  1012.6      39   \n",
       "43919  울산광역시  울주군  가로등  2022  1  2.703994e+06  2164.0   2.6  1012.6      39   \n",
       "43920  울산광역시  울주군  심 야  2022  1  6.547839e+06  2164.0   2.6  1012.6      39   \n",
       "\n",
       "       월합강수량  평균풍속  합계 일조시간    일조율  \n",
       "0       11.3   2.6    193.3  62.94  \n",
       "1       11.3   2.6    193.3  62.94  \n",
       "2       11.3   2.6    193.3  62.94  \n",
       "3       11.3   2.6    193.3  62.94  \n",
       "4       11.3   2.6    193.3  62.94  \n",
       "...      ...   ...      ...    ...  \n",
       "43916    0.9   2.3    235.2  75.34  \n",
       "43917    0.9   2.3    235.2  75.34  \n",
       "43918    0.9   2.3    235.2  75.34  \n",
       "43919    0.9   2.3    235.2  75.34  \n",
       "43920    0.9   2.3    235.2  75.34  \n",
       "\n",
       "[43921 rows x 14 columns]"
      ]
     },
     "execution_count": 3,
     "metadata": {},
     "output_type": "execute_result"
    }
   ],
   "source": [
    "df"
   ]
  },
  {
   "cell_type": "code",
   "execution_count": 4,
   "id": "c51edafa",
   "metadata": {},
   "outputs": [],
   "source": [
    "# 가로등(streetlight)\n",
    "sl = df.copy()"
   ]
  },
  {
   "cell_type": "code",
   "execution_count": 5,
   "id": "e96ba1a1",
   "metadata": {},
   "outputs": [
    {
     "data": {
      "text/plain": [
       "array(['서울특별시', '부산광역시', '대구광역시', '인천광역시', '광주광역시', '대전광역시', '울산광역시'],\n",
       "      dtype=object)"
      ]
     },
     "execution_count": 5,
     "metadata": {},
     "output_type": "execute_result"
    }
   ],
   "source": [
    "sl.시도.unique()"
   ]
  },
  {
   "cell_type": "code",
   "execution_count": 6,
   "id": "602f0d6c",
   "metadata": {
    "scrolled": false
   },
   "outputs": [
    {
     "data": {
      "image/png": "[encoded data removed]",
      "text/plain": [
       "<Figure size 1008x576 with 8 Axes>"
      ]
     },
     "metadata": {
      "needs_background": "light"
     },
     "output_type": "display_data"
    }
   ],
   "source": [
    "# 시도별 가로등\n",
    "import seaborn as sns\n",
    "\n",
    "fig , axs = plt.subplots(figsize=(14,8), nrows=2, ncols=4)\n",
    "\n",
    "sido = ['서울특별시', '부산광역시', '대구광역시', '인천광역시', '광주광역시', '대전광역시', '울산광역시']\n",
    "for i in range(len(sido)):\n",
    "    row = i// 4\n",
    "    col = i % 4\n",
    "    sns.histplot(sl[(sl['시도']==sido[i])&(sl['계약종별']=='가로등')]['전력 사용량'], ax = axs[row][col])\n",
    "#     plt.title(sido[i] +' '+ '가로등', ax=axs[row][col])"
   ]
  },
  {
   "cell_type": "code",
   "execution_count": 7,
   "id": "7cc0d29b",
   "metadata": {},
   "outputs": [
    {
     "data": {
      "text/html": [
       "<div>\n",
       "<style scoped>\n",
       "    .dataframe tbody tr th:only-of-type {\n",
       "        vertical-align: middle;\n",
       "    }\n",
       "\n",
       "    .dataframe tbody tr th {\n",
       "        vertical-align: top;\n",
       "    }\n",
       "\n",
       "    .dataframe thead th {\n",
       "        text-align: right;\n",
       "    }\n",
       "</style>\n",
       "<table border=\"1\" class=\"dataframe\">\n",
       "  <thead>\n",
       "    <tr style=\"text-align: right;\">\n",
       "      <th></th>\n",
       "      <th>시도</th>\n",
       "      <th>시군구</th>\n",
       "      <th>계약종별</th>\n",
       "      <th>년도</th>\n",
       "      <th>월</th>\n",
       "      <th>전력 사용량</th>\n",
       "      <th>확진자</th>\n",
       "      <th>평균기온</th>\n",
       "      <th>평균현지기압</th>\n",
       "      <th>평균상대습도</th>\n",
       "      <th>월합강수량</th>\n",
       "      <th>평균풍속</th>\n",
       "      <th>합계 일조시간</th>\n",
       "      <th>일조율</th>\n",
       "    </tr>\n",
       "  </thead>\n",
       "  <tbody>\n",
       "    <tr>\n",
       "      <th>5</th>\n",
       "      <td>서울특별시</td>\n",
       "      <td>종로구</td>\n",
       "      <td>가로등</td>\n",
       "      <td>2015</td>\n",
       "      <td>1</td>\n",
       "      <td>1146090.0</td>\n",
       "      <td>0.0</td>\n",
       "      <td>-0.9</td>\n",
       "      <td>1013.8</td>\n",
       "      <td>56</td>\n",
       "      <td>11.3</td>\n",
       "      <td>2.6</td>\n",
       "      <td>193.3</td>\n",
       "      <td>62.94</td>\n",
       "    </tr>\n",
       "    <tr>\n",
       "      <th>11</th>\n",
       "      <td>서울특별시</td>\n",
       "      <td>중구</td>\n",
       "      <td>가로등</td>\n",
       "      <td>2015</td>\n",
       "      <td>1</td>\n",
       "      <td>1725615.0</td>\n",
       "      <td>0.0</td>\n",
       "      <td>-0.9</td>\n",
       "      <td>1013.8</td>\n",
       "      <td>56</td>\n",
       "      <td>11.3</td>\n",
       "      <td>2.6</td>\n",
       "      <td>193.3</td>\n",
       "      <td>62.94</td>\n",
       "    </tr>\n",
       "    <tr>\n",
       "      <th>18</th>\n",
       "      <td>서울특별시</td>\n",
       "      <td>용산구</td>\n",
       "      <td>가로등</td>\n",
       "      <td>2015</td>\n",
       "      <td>1</td>\n",
       "      <td>1500780.0</td>\n",
       "      <td>0.0</td>\n",
       "      <td>-0.9</td>\n",
       "      <td>1013.8</td>\n",
       "      <td>56</td>\n",
       "      <td>11.3</td>\n",
       "      <td>2.6</td>\n",
       "      <td>193.3</td>\n",
       "      <td>62.94</td>\n",
       "    </tr>\n",
       "    <tr>\n",
       "      <th>25</th>\n",
       "      <td>서울특별시</td>\n",
       "      <td>성동구</td>\n",
       "      <td>가로등</td>\n",
       "      <td>2015</td>\n",
       "      <td>1</td>\n",
       "      <td>1267279.0</td>\n",
       "      <td>0.0</td>\n",
       "      <td>-0.9</td>\n",
       "      <td>1013.8</td>\n",
       "      <td>56</td>\n",
       "      <td>11.3</td>\n",
       "      <td>2.6</td>\n",
       "      <td>193.3</td>\n",
       "      <td>62.94</td>\n",
       "    </tr>\n",
       "    <tr>\n",
       "      <th>32</th>\n",
       "      <td>서울특별시</td>\n",
       "      <td>동대문구</td>\n",
       "      <td>가로등</td>\n",
       "      <td>2015</td>\n",
       "      <td>1</td>\n",
       "      <td>1216158.0</td>\n",
       "      <td>0.0</td>\n",
       "      <td>-0.9</td>\n",
       "      <td>1013.8</td>\n",
       "      <td>56</td>\n",
       "      <td>11.3</td>\n",
       "      <td>2.6</td>\n",
       "      <td>193.3</td>\n",
       "      <td>62.94</td>\n",
       "    </tr>\n",
       "    <tr>\n",
       "      <th>...</th>\n",
       "      <td>...</td>\n",
       "      <td>...</td>\n",
       "      <td>...</td>\n",
       "      <td>...</td>\n",
       "      <td>...</td>\n",
       "      <td>...</td>\n",
       "      <td>...</td>\n",
       "      <td>...</td>\n",
       "      <td>...</td>\n",
       "      <td>...</td>\n",
       "      <td>...</td>\n",
       "      <td>...</td>\n",
       "      <td>...</td>\n",
       "      <td>...</td>\n",
       "    </tr>\n",
       "    <tr>\n",
       "      <th>43891</th>\n",
       "      <td>울산광역시</td>\n",
       "      <td>북구</td>\n",
       "      <td>가로등</td>\n",
       "      <td>2022</td>\n",
       "      <td>1</td>\n",
       "      <td>1497624.0</td>\n",
       "      <td>2164.0</td>\n",
       "      <td>2.6</td>\n",
       "      <td>1012.6</td>\n",
       "      <td>39</td>\n",
       "      <td>0.9</td>\n",
       "      <td>2.3</td>\n",
       "      <td>235.2</td>\n",
       "      <td>75.34</td>\n",
       "    </tr>\n",
       "    <tr>\n",
       "      <th>43898</th>\n",
       "      <td>울산광역시</td>\n",
       "      <td>동구</td>\n",
       "      <td>가로등</td>\n",
       "      <td>2022</td>\n",
       "      <td>1</td>\n",
       "      <td>790738.0</td>\n",
       "      <td>2164.0</td>\n",
       "      <td>2.6</td>\n",
       "      <td>1012.6</td>\n",
       "      <td>39</td>\n",
       "      <td>0.9</td>\n",
       "      <td>2.3</td>\n",
       "      <td>235.2</td>\n",
       "      <td>75.34</td>\n",
       "    </tr>\n",
       "    <tr>\n",
       "      <th>43905</th>\n",
       "      <td>울산광역시</td>\n",
       "      <td>중구</td>\n",
       "      <td>가로등</td>\n",
       "      <td>2022</td>\n",
       "      <td>1</td>\n",
       "      <td>1286843.0</td>\n",
       "      <td>2164.0</td>\n",
       "      <td>2.6</td>\n",
       "      <td>1012.6</td>\n",
       "      <td>39</td>\n",
       "      <td>0.9</td>\n",
       "      <td>2.3</td>\n",
       "      <td>235.2</td>\n",
       "      <td>75.34</td>\n",
       "    </tr>\n",
       "    <tr>\n",
       "      <th>43912</th>\n",
       "      <td>울산광역시</td>\n",
       "      <td>남구</td>\n",
       "      <td>가로등</td>\n",
       "      <td>2022</td>\n",
       "      <td>1</td>\n",
       "      <td>1397869.0</td>\n",
       "      <td>2164.0</td>\n",
       "      <td>2.6</td>\n",
       "      <td>1012.6</td>\n",
       "      <td>39</td>\n",
       "      <td>0.9</td>\n",
       "      <td>2.3</td>\n",
       "      <td>235.2</td>\n",
       "      <td>75.34</td>\n",
       "    </tr>\n",
       "    <tr>\n",
       "      <th>43919</th>\n",
       "      <td>울산광역시</td>\n",
       "      <td>울주군</td>\n",
       "      <td>가로등</td>\n",
       "      <td>2022</td>\n",
       "      <td>1</td>\n",
       "      <td>2703994.0</td>\n",
       "      <td>2164.0</td>\n",
       "      <td>2.6</td>\n",
       "      <td>1012.6</td>\n",
       "      <td>39</td>\n",
       "      <td>0.9</td>\n",
       "      <td>2.3</td>\n",
       "      <td>235.2</td>\n",
       "      <td>75.34</td>\n",
       "    </tr>\n",
       "  </tbody>\n",
       "</table>\n",
       "<p>6290 rows × 14 columns</p>\n",
       "</div>"
      ],
      "text/plain": [
       "          시도   시군구 계약종별    년도  월     전력 사용량     확진자  평균기온  평균현지기압  평균상대습도  \\\n",
       "5      서울특별시   종로구  가로등  2015  1  1146090.0     0.0  -0.9  1013.8      56   \n",
       "11     서울특별시    중구  가로등  2015  1  1725615.0     0.0  -0.9  1013.8      56   \n",
       "18     서울특별시   용산구  가로등  2015  1  1500780.0     0.0  -0.9  1013.8      56   \n",
       "25     서울특별시   성동구  가로등  2015  1  1267279.0     0.0  -0.9  1013.8      56   \n",
       "32     서울특별시  동대문구  가로등  2015  1  1216158.0     0.0  -0.9  1013.8      56   \n",
       "...      ...   ...  ...   ... ..        ...     ...   ...     ...     ...   \n",
       "43891  울산광역시    북구  가로등  2022  1  1497624.0  2164.0   2.6  1012.6      39   \n",
       "43898  울산광역시    동구  가로등  2022  1   790738.0  2164.0   2.6  1012.6      39   \n",
       "43905  울산광역시    중구  가로등  2022  1  1286843.0  2164.0   2.6  1012.6      39   \n",
       "43912  울산광역시    남구  가로등  2022  1  1397869.0  2164.0   2.6  1012.6      39   \n",
       "43919  울산광역시   울주군  가로등  2022  1  2703994.0  2164.0   2.6  1012.6      39   \n",
       "\n",
       "       월합강수량  평균풍속  합계 일조시간    일조율  \n",
       "5       11.3   2.6    193.3  62.94  \n",
       "11      11.3   2.6    193.3  62.94  \n",
       "18      11.3   2.6    193.3  62.94  \n",
       "25      11.3   2.6    193.3  62.94  \n",
       "32      11.3   2.6    193.3  62.94  \n",
       "...      ...   ...      ...    ...  \n",
       "43891    0.9   2.3    235.2  75.34  \n",
       "43898    0.9   2.3    235.2  75.34  \n",
       "43905    0.9   2.3    235.2  75.34  \n",
       "43912    0.9   2.3    235.2  75.34  \n",
       "43919    0.9   2.3    235.2  75.34  \n",
       "\n",
       "[6290 rows x 14 columns]"
      ]
     },
     "execution_count": 7,
     "metadata": {},
     "output_type": "execute_result"
    }
   ],
   "source": [
    "sl = sl[(sl['계약종별']=='가로등')]\n",
    "sl"
   ]
  },
  {
   "cell_type": "code",
   "execution_count": 8,
   "id": "e8e3c2aa",
   "metadata": {},
   "outputs": [
    {
     "data": {
      "image/png": "[encoded data removed]",
      "text/plain": [
       "<Figure size 1080x720 with 1 Axes>"
      ]
     },
     "metadata": {
      "needs_background": "light"
     },
     "output_type": "display_data"
    }
   ],
   "source": [
    "plt.figure(figsize=(15, 10))\n",
    "\n",
    "splot = sns.barplot(data=sl, x='년도', y='전력 사용량', hue='시도')\n",
    "plt.title('연도에 따른 시도별 가로등', fontsize=25)\n",
    "plt.show()\n",
    "sfig = splot.get_figure()\n",
    "sfig.savefig('연도에 따른 시도별 가로등.png')"
   ]
  },
  {
   "cell_type": "code",
   "execution_count": 9,
   "id": "d7ba26fe",
   "metadata": {},
   "outputs": [],
   "source": [
    "def outlier_iqr(data, column): \n",
    "\n",
    "    # lower, upper 글로벌 변수 선언하기     \n",
    "    global lower, upper    \n",
    "    \n",
    "    # 4분위수 기준 지정하기     \n",
    "    q25, q75 = np.quantile(data[column], 0.25), np.quantile(data[column], 0.75)          \n",
    "    \n",
    "    # IQR 계산하기     \n",
    "    iqr = q75 - q25    \n",
    "    \n",
    "    # outlier cutoff 계산하기     \n",
    "    cut_off = iqr * 1.5          \n",
    "    \n",
    "    # lower와 upper bound 값 구하기     \n",
    "    lower, upper = q25 - cut_off, q75 + cut_off     \n",
    "    \n",
    "    print('IQR은',iqr, '이다.')     \n",
    "    print('lower bound 값은', lower, '이다.')     \n",
    "    print('upper bound 값은', upper, '이다.')    \n",
    "    \n",
    "    # 1사 분위와 4사 분위에 속해있는 데이터 각각 저장하기     \n",
    "    data1 = data[data[column] > upper]     \n",
    "    data2 = data[data[column] < lower]    \n",
    "    \n",
    "    # 이상치 총 개수 구하기\n",
    "    return print('총 이상치 개수는', data1.shape[0] + data2.shape[0], '이다.')\n"
   ]
  },
  {
   "cell_type": "code",
   "execution_count": 10,
   "id": "7da30655",
   "metadata": {},
   "outputs": [
    {
     "name": "stdout",
     "output_type": "stream",
     "text": [
      "IQR은 733574.0 이다.\n",
      "lower bound 값은 -359244.5 이다.\n",
      "upper bound 값은 2575051.5 이다.\n",
      "총 이상치 개수는 123 이다.\n"
     ]
    }
   ],
   "source": [
    "outlier_iqr(sl, '전력 사용량')"
   ]
  },
  {
   "cell_type": "code",
   "execution_count": 11,
   "id": "29180999",
   "metadata": {},
   "outputs": [
    {
     "data": {
      "image/png": "[encoded data removed]",
      "text/plain": [
       "<Figure size 1080x720 with 1 Axes>"
      ]
     },
     "metadata": {
      "needs_background": "light"
     },
     "output_type": "display_data"
    }
   ],
   "source": [
    "plt.figure(figsize=(15, 10))\n",
    "\n",
    "splot = sns.barplot(data=sl, x='월', y='전력 사용량', hue='시도')\n",
    "plt.title('월에 따른 시도별 가로등', fontsize=25)\n",
    "plt.show()\n",
    "sfig = splot.get_figure()\n",
    "sfig.savefig('월에 따른 시도별 가로등.png')"
   ]
  },
  {
   "cell_type": "markdown",
   "id": "825cc9c4",
   "metadata": {},
   "source": [
    "부산광역시가 모든연도와 달에서 가로등 전력소비량이 가장 적고 인천광역시가 모든 달에서 평균 전력 사용량이 가장 높다.\n",
    "여름에는 밤이 짧고 겨울에는 밤이 길기 때문에 계절성을 월단위 그래프에서 볼 수 있다."
   ]
  },
  {
   "cell_type": "code",
   "execution_count": 12,
   "id": "f7821bdb",
   "metadata": {},
   "outputs": [
    {
     "data": {
      "text/html": [
       "<div>\n",
       "<style scoped>\n",
       "    .dataframe tbody tr th:only-of-type {\n",
       "        vertical-align: middle;\n",
       "    }\n",
       "\n",
       "    .dataframe tbody tr th {\n",
       "        vertical-align: top;\n",
       "    }\n",
       "\n",
       "    .dataframe thead th {\n",
       "        text-align: right;\n",
       "    }\n",
       "</style>\n",
       "<table border=\"1\" class=\"dataframe\">\n",
       "  <thead>\n",
       "    <tr style=\"text-align: right;\">\n",
       "      <th></th>\n",
       "      <th>시도</th>\n",
       "      <th>시군구</th>\n",
       "      <th>계약종별</th>\n",
       "      <th>년도</th>\n",
       "      <th>월</th>\n",
       "      <th>전력 사용량</th>\n",
       "      <th>확진자</th>\n",
       "      <th>평균기온</th>\n",
       "      <th>평균현지기압</th>\n",
       "      <th>평균상대습도</th>\n",
       "      <th>월합강수량</th>\n",
       "      <th>평균풍속</th>\n",
       "      <th>합계 일조시간</th>\n",
       "      <th>일조율</th>\n",
       "    </tr>\n",
       "  </thead>\n",
       "  <tbody>\n",
       "    <tr>\n",
       "      <th>5</th>\n",
       "      <td>서울특별시</td>\n",
       "      <td>종로구</td>\n",
       "      <td>가로등</td>\n",
       "      <td>2015</td>\n",
       "      <td>1</td>\n",
       "      <td>1146090.0</td>\n",
       "      <td>0.0</td>\n",
       "      <td>-0.9</td>\n",
       "      <td>1013.8</td>\n",
       "      <td>56</td>\n",
       "      <td>11.3</td>\n",
       "      <td>2.6</td>\n",
       "      <td>193.3</td>\n",
       "      <td>62.94</td>\n",
       "    </tr>\n",
       "    <tr>\n",
       "      <th>11</th>\n",
       "      <td>서울특별시</td>\n",
       "      <td>중구</td>\n",
       "      <td>가로등</td>\n",
       "      <td>2015</td>\n",
       "      <td>1</td>\n",
       "      <td>1725615.0</td>\n",
       "      <td>0.0</td>\n",
       "      <td>-0.9</td>\n",
       "      <td>1013.8</td>\n",
       "      <td>56</td>\n",
       "      <td>11.3</td>\n",
       "      <td>2.6</td>\n",
       "      <td>193.3</td>\n",
       "      <td>62.94</td>\n",
       "    </tr>\n",
       "    <tr>\n",
       "      <th>18</th>\n",
       "      <td>서울특별시</td>\n",
       "      <td>용산구</td>\n",
       "      <td>가로등</td>\n",
       "      <td>2015</td>\n",
       "      <td>1</td>\n",
       "      <td>1500780.0</td>\n",
       "      <td>0.0</td>\n",
       "      <td>-0.9</td>\n",
       "      <td>1013.8</td>\n",
       "      <td>56</td>\n",
       "      <td>11.3</td>\n",
       "      <td>2.6</td>\n",
       "      <td>193.3</td>\n",
       "      <td>62.94</td>\n",
       "    </tr>\n",
       "    <tr>\n",
       "      <th>25</th>\n",
       "      <td>서울특별시</td>\n",
       "      <td>성동구</td>\n",
       "      <td>가로등</td>\n",
       "      <td>2015</td>\n",
       "      <td>1</td>\n",
       "      <td>1267279.0</td>\n",
       "      <td>0.0</td>\n",
       "      <td>-0.9</td>\n",
       "      <td>1013.8</td>\n",
       "      <td>56</td>\n",
       "      <td>11.3</td>\n",
       "      <td>2.6</td>\n",
       "      <td>193.3</td>\n",
       "      <td>62.94</td>\n",
       "    </tr>\n",
       "    <tr>\n",
       "      <th>32</th>\n",
       "      <td>서울특별시</td>\n",
       "      <td>동대문구</td>\n",
       "      <td>가로등</td>\n",
       "      <td>2015</td>\n",
       "      <td>1</td>\n",
       "      <td>1216158.0</td>\n",
       "      <td>0.0</td>\n",
       "      <td>-0.9</td>\n",
       "      <td>1013.8</td>\n",
       "      <td>56</td>\n",
       "      <td>11.3</td>\n",
       "      <td>2.6</td>\n",
       "      <td>193.3</td>\n",
       "      <td>62.94</td>\n",
       "    </tr>\n",
       "    <tr>\n",
       "      <th>...</th>\n",
       "      <td>...</td>\n",
       "      <td>...</td>\n",
       "      <td>...</td>\n",
       "      <td>...</td>\n",
       "      <td>...</td>\n",
       "      <td>...</td>\n",
       "      <td>...</td>\n",
       "      <td>...</td>\n",
       "      <td>...</td>\n",
       "      <td>...</td>\n",
       "      <td>...</td>\n",
       "      <td>...</td>\n",
       "      <td>...</td>\n",
       "      <td>...</td>\n",
       "    </tr>\n",
       "    <tr>\n",
       "      <th>30978</th>\n",
       "      <td>울산광역시</td>\n",
       "      <td>북구</td>\n",
       "      <td>가로등</td>\n",
       "      <td>2019</td>\n",
       "      <td>12</td>\n",
       "      <td>1371889.0</td>\n",
       "      <td>0.0</td>\n",
       "      <td>5.4</td>\n",
       "      <td>1013.6</td>\n",
       "      <td>54</td>\n",
       "      <td>40.8</td>\n",
       "      <td>2.1</td>\n",
       "      <td>202.5</td>\n",
       "      <td>66.46</td>\n",
       "    </tr>\n",
       "    <tr>\n",
       "      <th>30985</th>\n",
       "      <td>울산광역시</td>\n",
       "      <td>동구</td>\n",
       "      <td>가로등</td>\n",
       "      <td>2019</td>\n",
       "      <td>12</td>\n",
       "      <td>745265.0</td>\n",
       "      <td>0.0</td>\n",
       "      <td>5.4</td>\n",
       "      <td>1013.6</td>\n",
       "      <td>54</td>\n",
       "      <td>40.8</td>\n",
       "      <td>2.1</td>\n",
       "      <td>202.5</td>\n",
       "      <td>66.46</td>\n",
       "    </tr>\n",
       "    <tr>\n",
       "      <th>30992</th>\n",
       "      <td>울산광역시</td>\n",
       "      <td>중구</td>\n",
       "      <td>가로등</td>\n",
       "      <td>2019</td>\n",
       "      <td>12</td>\n",
       "      <td>1313580.0</td>\n",
       "      <td>0.0</td>\n",
       "      <td>5.4</td>\n",
       "      <td>1013.6</td>\n",
       "      <td>54</td>\n",
       "      <td>40.8</td>\n",
       "      <td>2.1</td>\n",
       "      <td>202.5</td>\n",
       "      <td>66.46</td>\n",
       "    </tr>\n",
       "    <tr>\n",
       "      <th>30999</th>\n",
       "      <td>울산광역시</td>\n",
       "      <td>남구</td>\n",
       "      <td>가로등</td>\n",
       "      <td>2019</td>\n",
       "      <td>12</td>\n",
       "      <td>1237149.0</td>\n",
       "      <td>0.0</td>\n",
       "      <td>5.4</td>\n",
       "      <td>1013.6</td>\n",
       "      <td>54</td>\n",
       "      <td>40.8</td>\n",
       "      <td>2.1</td>\n",
       "      <td>202.5</td>\n",
       "      <td>66.46</td>\n",
       "    </tr>\n",
       "    <tr>\n",
       "      <th>31006</th>\n",
       "      <td>울산광역시</td>\n",
       "      <td>울주군</td>\n",
       "      <td>가로등</td>\n",
       "      <td>2019</td>\n",
       "      <td>12</td>\n",
       "      <td>2200736.0</td>\n",
       "      <td>0.0</td>\n",
       "      <td>5.4</td>\n",
       "      <td>1013.6</td>\n",
       "      <td>54</td>\n",
       "      <td>40.8</td>\n",
       "      <td>2.1</td>\n",
       "      <td>202.5</td>\n",
       "      <td>66.46</td>\n",
       "    </tr>\n",
       "  </tbody>\n",
       "</table>\n",
       "<p>4440 rows × 14 columns</p>\n",
       "</div>"
      ],
      "text/plain": [
       "          시도   시군구 계약종별    년도   월     전력 사용량  확진자  평균기온  평균현지기압  평균상대습도  \\\n",
       "5      서울특별시   종로구  가로등  2015   1  1146090.0  0.0  -0.9  1013.8      56   \n",
       "11     서울특별시    중구  가로등  2015   1  1725615.0  0.0  -0.9  1013.8      56   \n",
       "18     서울특별시   용산구  가로등  2015   1  1500780.0  0.0  -0.9  1013.8      56   \n",
       "25     서울특별시   성동구  가로등  2015   1  1267279.0  0.0  -0.9  1013.8      56   \n",
       "32     서울특별시  동대문구  가로등  2015   1  1216158.0  0.0  -0.9  1013.8      56   \n",
       "...      ...   ...  ...   ...  ..        ...  ...   ...     ...     ...   \n",
       "30978  울산광역시    북구  가로등  2019  12  1371889.0  0.0   5.4  1013.6      54   \n",
       "30985  울산광역시    동구  가로등  2019  12   745265.0  0.0   5.4  1013.6      54   \n",
       "30992  울산광역시    중구  가로등  2019  12  1313580.0  0.0   5.4  1013.6      54   \n",
       "30999  울산광역시    남구  가로등  2019  12  1237149.0  0.0   5.4  1013.6      54   \n",
       "31006  울산광역시   울주군  가로등  2019  12  2200736.0  0.0   5.4  1013.6      54   \n",
       "\n",
       "       월합강수량  평균풍속  합계 일조시간    일조율  \n",
       "5       11.3   2.6    193.3  62.94  \n",
       "11      11.3   2.6    193.3  62.94  \n",
       "18      11.3   2.6    193.3  62.94  \n",
       "25      11.3   2.6    193.3  62.94  \n",
       "32      11.3   2.6    193.3  62.94  \n",
       "...      ...   ...      ...    ...  \n",
       "30978   40.8   2.1    202.5  66.46  \n",
       "30985   40.8   2.1    202.5  66.46  \n",
       "30992   40.8   2.1    202.5  66.46  \n",
       "30999   40.8   2.1    202.5  66.46  \n",
       "31006   40.8   2.1    202.5  66.46  \n",
       "\n",
       "[4440 rows x 14 columns]"
      ]
     },
     "execution_count": 12,
     "metadata": {},
     "output_type": "execute_result"
    }
   ],
   "source": [
    "# 코로나 이전\n",
    "co_b = sl[(sl['년도']<2020)]\n",
    "co_b"
   ]
  },
  {
   "cell_type": "code",
   "execution_count": 13,
   "id": "599d72eb",
   "metadata": {},
   "outputs": [
    {
     "data": {
      "image/png": "[encoded data removed]",
      "text/plain": [
       "<Figure size 1080x720 with 1 Axes>"
      ]
     },
     "metadata": {
      "needs_background": "light"
     },
     "output_type": "display_data"
    }
   ],
   "source": [
    "plt.figure(figsize=(15, 10))\n",
    "\n",
    "splot = sns.barplot(data=co_b, x='월', y='전력 사용량', hue='시도')\n",
    "plt.title('코로나 이전 월에 따른 시도별 가로등', fontsize=25)\n",
    "plt.show()\n",
    "sfig = splot.get_figure()\n",
    "sfig.savefig('코로나 이전 월에 따른 시도별 가로등.png')"
   ]
  },
  {
   "cell_type": "code",
   "execution_count": 14,
   "id": "bd274524",
   "metadata": {},
   "outputs": [
    {
     "data": {
      "text/html": [
       "<div>\n",
       "<style scoped>\n",
       "    .dataframe tbody tr th:only-of-type {\n",
       "        vertical-align: middle;\n",
       "    }\n",
       "\n",
       "    .dataframe tbody tr th {\n",
       "        vertical-align: top;\n",
       "    }\n",
       "\n",
       "    .dataframe thead th {\n",
       "        text-align: right;\n",
       "    }\n",
       "</style>\n",
       "<table border=\"1\" class=\"dataframe\">\n",
       "  <thead>\n",
       "    <tr style=\"text-align: right;\">\n",
       "      <th></th>\n",
       "      <th>시도</th>\n",
       "      <th>시군구</th>\n",
       "      <th>계약종별</th>\n",
       "      <th>년도</th>\n",
       "      <th>월</th>\n",
       "      <th>전력 사용량</th>\n",
       "      <th>확진자</th>\n",
       "      <th>평균기온</th>\n",
       "      <th>평균현지기압</th>\n",
       "      <th>평균상대습도</th>\n",
       "      <th>월합강수량</th>\n",
       "      <th>평균풍속</th>\n",
       "      <th>합계 일조시간</th>\n",
       "      <th>일조율</th>\n",
       "    </tr>\n",
       "  </thead>\n",
       "  <tbody>\n",
       "    <tr>\n",
       "      <th>31013</th>\n",
       "      <td>서울특별시</td>\n",
       "      <td>종로구</td>\n",
       "      <td>가로등</td>\n",
       "      <td>2020</td>\n",
       "      <td>1</td>\n",
       "      <td>918968.0</td>\n",
       "      <td>7.0</td>\n",
       "      <td>1.6</td>\n",
       "      <td>1012.8</td>\n",
       "      <td>56</td>\n",
       "      <td>60.5</td>\n",
       "      <td>2.1</td>\n",
       "      <td>177.9</td>\n",
       "      <td>57.93</td>\n",
       "    </tr>\n",
       "    <tr>\n",
       "      <th>31019</th>\n",
       "      <td>서울특별시</td>\n",
       "      <td>중구</td>\n",
       "      <td>가로등</td>\n",
       "      <td>2020</td>\n",
       "      <td>1</td>\n",
       "      <td>1071213.0</td>\n",
       "      <td>7.0</td>\n",
       "      <td>1.6</td>\n",
       "      <td>1012.8</td>\n",
       "      <td>56</td>\n",
       "      <td>60.5</td>\n",
       "      <td>2.1</td>\n",
       "      <td>177.9</td>\n",
       "      <td>57.93</td>\n",
       "    </tr>\n",
       "    <tr>\n",
       "      <th>31025</th>\n",
       "      <td>서울특별시</td>\n",
       "      <td>용산구</td>\n",
       "      <td>가로등</td>\n",
       "      <td>2020</td>\n",
       "      <td>1</td>\n",
       "      <td>1280201.0</td>\n",
       "      <td>7.0</td>\n",
       "      <td>1.6</td>\n",
       "      <td>1012.8</td>\n",
       "      <td>56</td>\n",
       "      <td>60.5</td>\n",
       "      <td>2.1</td>\n",
       "      <td>177.9</td>\n",
       "      <td>57.93</td>\n",
       "    </tr>\n",
       "    <tr>\n",
       "      <th>31032</th>\n",
       "      <td>서울특별시</td>\n",
       "      <td>성동구</td>\n",
       "      <td>가로등</td>\n",
       "      <td>2020</td>\n",
       "      <td>1</td>\n",
       "      <td>1063996.0</td>\n",
       "      <td>7.0</td>\n",
       "      <td>1.6</td>\n",
       "      <td>1012.8</td>\n",
       "      <td>56</td>\n",
       "      <td>60.5</td>\n",
       "      <td>2.1</td>\n",
       "      <td>177.9</td>\n",
       "      <td>57.93</td>\n",
       "    </tr>\n",
       "    <tr>\n",
       "      <th>31039</th>\n",
       "      <td>서울특별시</td>\n",
       "      <td>동대문구</td>\n",
       "      <td>가로등</td>\n",
       "      <td>2020</td>\n",
       "      <td>1</td>\n",
       "      <td>1022115.0</td>\n",
       "      <td>7.0</td>\n",
       "      <td>1.6</td>\n",
       "      <td>1012.8</td>\n",
       "      <td>56</td>\n",
       "      <td>60.5</td>\n",
       "      <td>2.1</td>\n",
       "      <td>177.9</td>\n",
       "      <td>57.93</td>\n",
       "    </tr>\n",
       "    <tr>\n",
       "      <th>...</th>\n",
       "      <td>...</td>\n",
       "      <td>...</td>\n",
       "      <td>...</td>\n",
       "      <td>...</td>\n",
       "      <td>...</td>\n",
       "      <td>...</td>\n",
       "      <td>...</td>\n",
       "      <td>...</td>\n",
       "      <td>...</td>\n",
       "      <td>...</td>\n",
       "      <td>...</td>\n",
       "      <td>...</td>\n",
       "      <td>...</td>\n",
       "      <td>...</td>\n",
       "    </tr>\n",
       "    <tr>\n",
       "      <th>43891</th>\n",
       "      <td>울산광역시</td>\n",
       "      <td>북구</td>\n",
       "      <td>가로등</td>\n",
       "      <td>2022</td>\n",
       "      <td>1</td>\n",
       "      <td>1497624.0</td>\n",
       "      <td>2164.0</td>\n",
       "      <td>2.6</td>\n",
       "      <td>1012.6</td>\n",
       "      <td>39</td>\n",
       "      <td>0.9</td>\n",
       "      <td>2.3</td>\n",
       "      <td>235.2</td>\n",
       "      <td>75.34</td>\n",
       "    </tr>\n",
       "    <tr>\n",
       "      <th>43898</th>\n",
       "      <td>울산광역시</td>\n",
       "      <td>동구</td>\n",
       "      <td>가로등</td>\n",
       "      <td>2022</td>\n",
       "      <td>1</td>\n",
       "      <td>790738.0</td>\n",
       "      <td>2164.0</td>\n",
       "      <td>2.6</td>\n",
       "      <td>1012.6</td>\n",
       "      <td>39</td>\n",
       "      <td>0.9</td>\n",
       "      <td>2.3</td>\n",
       "      <td>235.2</td>\n",
       "      <td>75.34</td>\n",
       "    </tr>\n",
       "    <tr>\n",
       "      <th>43905</th>\n",
       "      <td>울산광역시</td>\n",
       "      <td>중구</td>\n",
       "      <td>가로등</td>\n",
       "      <td>2022</td>\n",
       "      <td>1</td>\n",
       "      <td>1286843.0</td>\n",
       "      <td>2164.0</td>\n",
       "      <td>2.6</td>\n",
       "      <td>1012.6</td>\n",
       "      <td>39</td>\n",
       "      <td>0.9</td>\n",
       "      <td>2.3</td>\n",
       "      <td>235.2</td>\n",
       "      <td>75.34</td>\n",
       "    </tr>\n",
       "    <tr>\n",
       "      <th>43912</th>\n",
       "      <td>울산광역시</td>\n",
       "      <td>남구</td>\n",
       "      <td>가로등</td>\n",
       "      <td>2022</td>\n",
       "      <td>1</td>\n",
       "      <td>1397869.0</td>\n",
       "      <td>2164.0</td>\n",
       "      <td>2.6</td>\n",
       "      <td>1012.6</td>\n",
       "      <td>39</td>\n",
       "      <td>0.9</td>\n",
       "      <td>2.3</td>\n",
       "      <td>235.2</td>\n",
       "      <td>75.34</td>\n",
       "    </tr>\n",
       "    <tr>\n",
       "      <th>43919</th>\n",
       "      <td>울산광역시</td>\n",
       "      <td>울주군</td>\n",
       "      <td>가로등</td>\n",
       "      <td>2022</td>\n",
       "      <td>1</td>\n",
       "      <td>2703994.0</td>\n",
       "      <td>2164.0</td>\n",
       "      <td>2.6</td>\n",
       "      <td>1012.6</td>\n",
       "      <td>39</td>\n",
       "      <td>0.9</td>\n",
       "      <td>2.3</td>\n",
       "      <td>235.2</td>\n",
       "      <td>75.34</td>\n",
       "    </tr>\n",
       "  </tbody>\n",
       "</table>\n",
       "<p>1850 rows × 14 columns</p>\n",
       "</div>"
      ],
      "text/plain": [
       "          시도   시군구 계약종별    년도  월     전력 사용량     확진자  평균기온  평균현지기압  평균상대습도  \\\n",
       "31013  서울특별시   종로구  가로등  2020  1   918968.0     7.0   1.6  1012.8      56   \n",
       "31019  서울특별시    중구  가로등  2020  1  1071213.0     7.0   1.6  1012.8      56   \n",
       "31025  서울특별시   용산구  가로등  2020  1  1280201.0     7.0   1.6  1012.8      56   \n",
       "31032  서울특별시   성동구  가로등  2020  1  1063996.0     7.0   1.6  1012.8      56   \n",
       "31039  서울특별시  동대문구  가로등  2020  1  1022115.0     7.0   1.6  1012.8      56   \n",
       "...      ...   ...  ...   ... ..        ...     ...   ...     ...     ...   \n",
       "43891  울산광역시    북구  가로등  2022  1  1497624.0  2164.0   2.6  1012.6      39   \n",
       "43898  울산광역시    동구  가로등  2022  1   790738.0  2164.0   2.6  1012.6      39   \n",
       "43905  울산광역시    중구  가로등  2022  1  1286843.0  2164.0   2.6  1012.6      39   \n",
       "43912  울산광역시    남구  가로등  2022  1  1397869.0  2164.0   2.6  1012.6      39   \n",
       "43919  울산광역시   울주군  가로등  2022  1  2703994.0  2164.0   2.6  1012.6      39   \n",
       "\n",
       "       월합강수량  평균풍속  합계 일조시간    일조율  \n",
       "31013   60.5   2.1    177.9  57.93  \n",
       "31019   60.5   2.1    177.9  57.93  \n",
       "31025   60.5   2.1    177.9  57.93  \n",
       "31032   60.5   2.1    177.9  57.93  \n",
       "31039   60.5   2.1    177.9  57.93  \n",
       "...      ...   ...      ...    ...  \n",
       "43891    0.9   2.3    235.2  75.34  \n",
       "43898    0.9   2.3    235.2  75.34  \n",
       "43905    0.9   2.3    235.2  75.34  \n",
       "43912    0.9   2.3    235.2  75.34  \n",
       "43919    0.9   2.3    235.2  75.34  \n",
       "\n",
       "[1850 rows x 14 columns]"
      ]
     },
     "execution_count": 14,
     "metadata": {},
     "output_type": "execute_result"
    }
   ],
   "source": [
    "# 코로나 이후\n",
    "co_a = sl[(sl['년도']>2019)]\n",
    "co_a"
   ]
  },
  {
   "cell_type": "code",
   "execution_count": 15,
   "id": "4ee062b5",
   "metadata": {},
   "outputs": [
    {
     "data": {
      "image/png": "[encoded data removed]",
      "text/plain": [
       "<Figure size 1080x720 with 1 Axes>"
      ]
     },
     "metadata": {
      "needs_background": "light"
     },
     "output_type": "display_data"
    }
   ],
   "source": [
    "plt.figure(figsize=(15, 10))\n",
    "\n",
    "splot = sns.barplot(data=co_a, x='월', y='전력 사용량', hue='시도')\n",
    "plt.title('코로나 이후 월에 따른 시도별 가로등', fontsize=25)\n",
    "plt.show()\n",
    "sfig = splot.get_figure()\n",
    "sfig.savefig('코로나 이후 월에 따른 시도별 가로등.png')"
   ]
  },
  {
   "cell_type": "markdown",
   "id": "2427d865",
   "metadata": {},
   "source": [
    "https://home.kepco.co.kr/kepco/CY/K/htmlView/CYKDPP00101.do?menuCd=FN02070401\n",
    "\n",
    "**심야전력 정의**\n",
    "\n",
    "특정 시간대에 집중되는 전력 수요를 분산하고, 전기 사용이 적은 심야(밤 11시~아침 9시) 시간대 수요를 증대시켜 전력설비를 효율적으로 이용하기 위하여 심야시간대에 전기를 공급받아 열, 온수 또는 얼음을 생산하거나 전기를 ESS에 저장하였다가 급탕, 난방 또는 냉방에 이용하거나 ESS와 연결된 EHP(전기히트펌프)를 가동하는 심야전력기기에 대하여 별도의 전기요금을 적용하는 제도입니다.\n",
    "\n",
    "\n",
    "**심야전력기기란**\n",
    "\n",
    "축열식 난방·온수기기, 축열식 냉난방설비(축냉설비), ESS식 냉난방설비를 말합니다.\n",
    "\n",
    "\n",
    "**심야전력요금은**\n",
    "\n",
    "심야시간에 사용한 모든 전력량에 대하여 적용하는 요금이 아니라, 심야전력 기기의 심야시간 사용전력량에 대해서만 적용하는 요금제도입니다.\n",
    "심야전력 계량기(타임스위치 포함)를 따로 설치하여 사용량을 검침한 후 일반요금과 별도로 요금이 청구됩니다.\n",
    "\n",
    "---\n",
    "2018년 6월 진행한 첫 기자간담회에서는 “2017년 경부하 요금으로 쓴 전기는 전체 전력 사용의 49%에 이르고 특히 대기업들이 심야시간 전기의 53%를 쓰고 있다”"
   ]
  },
  {
   "cell_type": "code",
   "execution_count": 16,
   "id": "0bc6305c",
   "metadata": {},
   "outputs": [],
   "source": [
    "night = df.copy()"
   ]
  },
  {
   "cell_type": "code",
   "execution_count": 17,
   "id": "fec3c6e4",
   "metadata": {},
   "outputs": [
    {
     "data": {
      "image/png": "[encoded data removed]",
      "text/plain": [
       "<Figure size 1008x576 with 8 Axes>"
      ]
     },
     "metadata": {
      "needs_background": "light"
     },
     "output_type": "display_data"
    }
   ],
   "source": [
    "# 시도별 심야\n",
    "import seaborn as sns\n",
    "\n",
    "fig , axs = plt.subplots(figsize=(14,8), nrows=2, ncols=4)\n",
    "\n",
    "sido = ['서울특별시', '부산광역시', '대구광역시', '인천광역시', '광주광역시', '대전광역시', '울산광역시']\n",
    "for i in range(len(sido)):\n",
    "    row = i// 4\n",
    "    col = i % 4\n",
    "    sns.histplot(night[(night['시도']==sido[i])&(night['계약종별']=='심 야')]['전력 사용량'], ax = axs[row][col])\n",
    "#     plt.title(sido[i] +' '+ '가로등', ax=axs[row][col])"
   ]
  },
  {
   "cell_type": "code",
   "execution_count": 18,
   "id": "4b7bfa1b",
   "metadata": {},
   "outputs": [
    {
     "data": {
      "text/html": [
       "<div>\n",
       "<style scoped>\n",
       "    .dataframe tbody tr th:only-of-type {\n",
       "        vertical-align: middle;\n",
       "    }\n",
       "\n",
       "    .dataframe tbody tr th {\n",
       "        vertical-align: top;\n",
       "    }\n",
       "\n",
       "    .dataframe thead th {\n",
       "        text-align: right;\n",
       "    }\n",
       "</style>\n",
       "<table border=\"1\" class=\"dataframe\">\n",
       "  <thead>\n",
       "    <tr style=\"text-align: right;\">\n",
       "      <th></th>\n",
       "      <th>시도</th>\n",
       "      <th>시군구</th>\n",
       "      <th>계약종별</th>\n",
       "      <th>년도</th>\n",
       "      <th>월</th>\n",
       "      <th>전력 사용량</th>\n",
       "      <th>확진자</th>\n",
       "      <th>평균기온</th>\n",
       "      <th>평균현지기압</th>\n",
       "      <th>평균상대습도</th>\n",
       "      <th>월합강수량</th>\n",
       "      <th>평균풍속</th>\n",
       "      <th>합계 일조시간</th>\n",
       "      <th>일조율</th>\n",
       "    </tr>\n",
       "  </thead>\n",
       "  <tbody>\n",
       "    <tr>\n",
       "      <th>6</th>\n",
       "      <td>서울특별시</td>\n",
       "      <td>종로구</td>\n",
       "      <td>심 야</td>\n",
       "      <td>2015</td>\n",
       "      <td>1</td>\n",
       "      <td>4822017.0</td>\n",
       "      <td>0.0</td>\n",
       "      <td>-0.9</td>\n",
       "      <td>1013.8</td>\n",
       "      <td>56</td>\n",
       "      <td>11.3</td>\n",
       "      <td>2.6</td>\n",
       "      <td>193.3</td>\n",
       "      <td>62.94</td>\n",
       "    </tr>\n",
       "    <tr>\n",
       "      <th>12</th>\n",
       "      <td>서울특별시</td>\n",
       "      <td>중구</td>\n",
       "      <td>심 야</td>\n",
       "      <td>2015</td>\n",
       "      <td>1</td>\n",
       "      <td>1197573.0</td>\n",
       "      <td>0.0</td>\n",
       "      <td>-0.9</td>\n",
       "      <td>1013.8</td>\n",
       "      <td>56</td>\n",
       "      <td>11.3</td>\n",
       "      <td>2.6</td>\n",
       "      <td>193.3</td>\n",
       "      <td>62.94</td>\n",
       "    </tr>\n",
       "    <tr>\n",
       "      <th>19</th>\n",
       "      <td>서울특별시</td>\n",
       "      <td>용산구</td>\n",
       "      <td>심 야</td>\n",
       "      <td>2015</td>\n",
       "      <td>1</td>\n",
       "      <td>989022.0</td>\n",
       "      <td>0.0</td>\n",
       "      <td>-0.9</td>\n",
       "      <td>1013.8</td>\n",
       "      <td>56</td>\n",
       "      <td>11.3</td>\n",
       "      <td>2.6</td>\n",
       "      <td>193.3</td>\n",
       "      <td>62.94</td>\n",
       "    </tr>\n",
       "    <tr>\n",
       "      <th>26</th>\n",
       "      <td>서울특별시</td>\n",
       "      <td>성동구</td>\n",
       "      <td>심 야</td>\n",
       "      <td>2015</td>\n",
       "      <td>1</td>\n",
       "      <td>813210.0</td>\n",
       "      <td>0.0</td>\n",
       "      <td>-0.9</td>\n",
       "      <td>1013.8</td>\n",
       "      <td>56</td>\n",
       "      <td>11.3</td>\n",
       "      <td>2.6</td>\n",
       "      <td>193.3</td>\n",
       "      <td>62.94</td>\n",
       "    </tr>\n",
       "    <tr>\n",
       "      <th>33</th>\n",
       "      <td>서울특별시</td>\n",
       "      <td>동대문구</td>\n",
       "      <td>심 야</td>\n",
       "      <td>2015</td>\n",
       "      <td>1</td>\n",
       "      <td>1307186.0</td>\n",
       "      <td>0.0</td>\n",
       "      <td>-0.9</td>\n",
       "      <td>1013.8</td>\n",
       "      <td>56</td>\n",
       "      <td>11.3</td>\n",
       "      <td>2.6</td>\n",
       "      <td>193.3</td>\n",
       "      <td>62.94</td>\n",
       "    </tr>\n",
       "    <tr>\n",
       "      <th>...</th>\n",
       "      <td>...</td>\n",
       "      <td>...</td>\n",
       "      <td>...</td>\n",
       "      <td>...</td>\n",
       "      <td>...</td>\n",
       "      <td>...</td>\n",
       "      <td>...</td>\n",
       "      <td>...</td>\n",
       "      <td>...</td>\n",
       "      <td>...</td>\n",
       "      <td>...</td>\n",
       "      <td>...</td>\n",
       "      <td>...</td>\n",
       "      <td>...</td>\n",
       "    </tr>\n",
       "    <tr>\n",
       "      <th>43892</th>\n",
       "      <td>울산광역시</td>\n",
       "      <td>북구</td>\n",
       "      <td>심 야</td>\n",
       "      <td>2022</td>\n",
       "      <td>1</td>\n",
       "      <td>1321124.0</td>\n",
       "      <td>2164.0</td>\n",
       "      <td>2.6</td>\n",
       "      <td>1012.6</td>\n",
       "      <td>39</td>\n",
       "      <td>0.9</td>\n",
       "      <td>2.3</td>\n",
       "      <td>235.2</td>\n",
       "      <td>75.34</td>\n",
       "    </tr>\n",
       "    <tr>\n",
       "      <th>43899</th>\n",
       "      <td>울산광역시</td>\n",
       "      <td>동구</td>\n",
       "      <td>심 야</td>\n",
       "      <td>2022</td>\n",
       "      <td>1</td>\n",
       "      <td>627804.0</td>\n",
       "      <td>2164.0</td>\n",
       "      <td>2.6</td>\n",
       "      <td>1012.6</td>\n",
       "      <td>39</td>\n",
       "      <td>0.9</td>\n",
       "      <td>2.3</td>\n",
       "      <td>235.2</td>\n",
       "      <td>75.34</td>\n",
       "    </tr>\n",
       "    <tr>\n",
       "      <th>43906</th>\n",
       "      <td>울산광역시</td>\n",
       "      <td>중구</td>\n",
       "      <td>심 야</td>\n",
       "      <td>2022</td>\n",
       "      <td>1</td>\n",
       "      <td>963254.0</td>\n",
       "      <td>2164.0</td>\n",
       "      <td>2.6</td>\n",
       "      <td>1012.6</td>\n",
       "      <td>39</td>\n",
       "      <td>0.9</td>\n",
       "      <td>2.3</td>\n",
       "      <td>235.2</td>\n",
       "      <td>75.34</td>\n",
       "    </tr>\n",
       "    <tr>\n",
       "      <th>43913</th>\n",
       "      <td>울산광역시</td>\n",
       "      <td>남구</td>\n",
       "      <td>심 야</td>\n",
       "      <td>2022</td>\n",
       "      <td>1</td>\n",
       "      <td>2863046.0</td>\n",
       "      <td>2164.0</td>\n",
       "      <td>2.6</td>\n",
       "      <td>1012.6</td>\n",
       "      <td>39</td>\n",
       "      <td>0.9</td>\n",
       "      <td>2.3</td>\n",
       "      <td>235.2</td>\n",
       "      <td>75.34</td>\n",
       "    </tr>\n",
       "    <tr>\n",
       "      <th>43920</th>\n",
       "      <td>울산광역시</td>\n",
       "      <td>울주군</td>\n",
       "      <td>심 야</td>\n",
       "      <td>2022</td>\n",
       "      <td>1</td>\n",
       "      <td>6547839.0</td>\n",
       "      <td>2164.0</td>\n",
       "      <td>2.6</td>\n",
       "      <td>1012.6</td>\n",
       "      <td>39</td>\n",
       "      <td>0.9</td>\n",
       "      <td>2.3</td>\n",
       "      <td>235.2</td>\n",
       "      <td>75.34</td>\n",
       "    </tr>\n",
       "  </tbody>\n",
       "</table>\n",
       "<p>6290 rows × 14 columns</p>\n",
       "</div>"
      ],
      "text/plain": [
       "          시도   시군구 계약종별    년도  월     전력 사용량     확진자  평균기온  평균현지기압  평균상대습도  \\\n",
       "6      서울특별시   종로구  심 야  2015  1  4822017.0     0.0  -0.9  1013.8      56   \n",
       "12     서울특별시    중구  심 야  2015  1  1197573.0     0.0  -0.9  1013.8      56   \n",
       "19     서울특별시   용산구  심 야  2015  1   989022.0     0.0  -0.9  1013.8      56   \n",
       "26     서울특별시   성동구  심 야  2015  1   813210.0     0.0  -0.9  1013.8      56   \n",
       "33     서울특별시  동대문구  심 야  2015  1  1307186.0     0.0  -0.9  1013.8      56   \n",
       "...      ...   ...  ...   ... ..        ...     ...   ...     ...     ...   \n",
       "43892  울산광역시    북구  심 야  2022  1  1321124.0  2164.0   2.6  1012.6      39   \n",
       "43899  울산광역시    동구  심 야  2022  1   627804.0  2164.0   2.6  1012.6      39   \n",
       "43906  울산광역시    중구  심 야  2022  1   963254.0  2164.0   2.6  1012.6      39   \n",
       "43913  울산광역시    남구  심 야  2022  1  2863046.0  2164.0   2.6  1012.6      39   \n",
       "43920  울산광역시   울주군  심 야  2022  1  6547839.0  2164.0   2.6  1012.6      39   \n",
       "\n",
       "       월합강수량  평균풍속  합계 일조시간    일조율  \n",
       "6       11.3   2.6    193.3  62.94  \n",
       "12      11.3   2.6    193.3  62.94  \n",
       "19      11.3   2.6    193.3  62.94  \n",
       "26      11.3   2.6    193.3  62.94  \n",
       "33      11.3   2.6    193.3  62.94  \n",
       "...      ...   ...      ...    ...  \n",
       "43892    0.9   2.3    235.2  75.34  \n",
       "43899    0.9   2.3    235.2  75.34  \n",
       "43906    0.9   2.3    235.2  75.34  \n",
       "43913    0.9   2.3    235.2  75.34  \n",
       "43920    0.9   2.3    235.2  75.34  \n",
       "\n",
       "[6290 rows x 14 columns]"
      ]
     },
     "execution_count": 18,
     "metadata": {},
     "output_type": "execute_result"
    }
   ],
   "source": [
    "dn = night[(night['계약종별']=='심 야')]\n",
    "dn"
   ]
  },
  {
   "cell_type": "code",
   "execution_count": 19,
   "id": "86ca4d9e",
   "metadata": {},
   "outputs": [
    {
     "data": {
      "image/png": "[encoded data removed]",
      "text/plain": [
       "<Figure size 1080x720 with 1 Axes>"
      ]
     },
     "metadata": {
      "needs_background": "light"
     },
     "output_type": "display_data"
    }
   ],
   "source": [
    "plt.figure(figsize=(15, 10))\n",
    "\n",
    "splot = sns.barplot(data=dn, x='년도', y='전력 사용량', hue='시도')\n",
    "plt.title('연도에 따른 시도별 심야', fontsize=25)\n",
    "plt.show()\n",
    "sfig = splot.get_figure()\n",
    "sfig.savefig('연도에 따른 시도별 심야.png')"
   ]
  },
  {
   "cell_type": "code",
   "execution_count": 20,
   "id": "12e91058",
   "metadata": {},
   "outputs": [
    {
     "data": {
      "image/png": "[encoded data removed]",
      "text/plain": [
       "<Figure size 1080x720 with 1 Axes>"
      ]
     },
     "metadata": {
      "needs_background": "light"
     },
     "output_type": "display_data"
    }
   ],
   "source": [
    "plt.figure(figsize=(15, 10))\n",
    "splot = sns.barplot(data=dn, x='월', y='전력 사용량', hue='시도')\n",
    "plt.title('월에 따른 시도별 심야', fontsize=25)\n",
    "plt.show()\n",
    "sfig = splot.get_figure()\n",
    "sfig.savefig('월에 따른 시도별 심야.png')"
   ]
  },
  {
   "cell_type": "code",
   "execution_count": 21,
   "id": "fa93bb13",
   "metadata": {},
   "outputs": [
    {
     "data": {
      "image/png": "[encoded data removed]",
      "text/plain": [
       "<Figure size 1080x720 with 1 Axes>"
      ]
     },
     "metadata": {
      "needs_background": "light"
     },
     "output_type": "display_data"
    }
   ],
   "source": [
    "# 코로나 이전 심야 전기\n",
    "dn_b = dn[(dn['년도']<2020)]\n",
    "plt.figure(figsize=(15, 10))\n",
    "splot = sns.barplot(data=dn_b, x='월', y='전력 사용량', hue='시도')\n",
    "plt.title('코로나 이전 월에 따른 시도별 심야', fontsize=25)\n",
    "plt.show()\n",
    "sfig = splot.get_figure()\n",
    "sfig.savefig('코로나 이전 월에 따른 시도별 심야.png')"
   ]
  },
  {
   "cell_type": "code",
   "execution_count": 22,
   "id": "880539f8",
   "metadata": {},
   "outputs": [
    {
     "data": {
      "image/png": "[encoded data removed]",
      "text/plain": [
       "<Figure size 1080x720 with 1 Axes>"
      ]
     },
     "metadata": {
      "needs_background": "light"
     },
     "output_type": "display_data"
    }
   ],
   "source": [
    "# 코로나 이후 심야 전기\n",
    "dn_a = dn[(dn['년도']>2019)]\n",
    "plt.figure(figsize=(15, 10))\n",
    "splot = sns.barplot(data=dn_a, x='월', y='전력 사용량', hue='시도')\n",
    "plt.title('코로나 이후 월에 따른 시도별 심야', fontsize=25)\n",
    "plt.show()\n",
    "sfig = splot.get_figure()\n",
    "sfig.savefig('코로나 이후 월에 따른 시도별 심야.png')"
   ]
  },
  {
   "cell_type": "code",
   "execution_count": 23,
   "id": "10316b21",
   "metadata": {},
   "outputs": [
    {
     "name": "stdout",
     "output_type": "stream",
     "text": [
      "IQR은 1677173.5 이다.\n",
      "lower bound 값은 -1868907.25 이다.\n",
      "upper bound 값은 4839786.75 이다.\n",
      "총 이상치 개수는 441 이다.\n"
     ]
    }
   ],
   "source": [
    "outlier_iqr(dn, '전력 사용량')"
   ]
  },
  {
   "cell_type": "code",
   "execution_count": 24,
   "id": "f41bbf20",
   "metadata": {},
   "outputs": [
    {
     "data": {
      "image/png": "[encoded data removed]",
      "text/plain": [
       "<Figure size 1080x720 with 1 Axes>"
      ]
     },
     "metadata": {
      "needs_background": "light"
     },
     "output_type": "display_data"
    }
   ],
   "source": [
    "# 시도별 가로등 전력 사용량 박스 플롯\n",
    "plt.figure(figsize=(15, 10))\n",
    "splot = sns.boxplot(x=\"시도\", y=\"전력 사용량\", data=sl)\n",
    "plt.title('시도별 가로등 전력 사용량', fontsize=25)\n",
    "sfig = splot.get_figure()\n",
    "sfig.savefig('시도별 가로등 전력 사용량.png')"
   ]
  },
  {
   "cell_type": "code",
   "execution_count": 25,
   "id": "21c7ab41",
   "metadata": {},
   "outputs": [
    {
     "data": {
      "image/png": "[encoded data removed]",
      "text/plain": [
       "<Figure size 1080x720 with 1 Axes>"
      ]
     },
     "metadata": {
      "needs_background": "light"
     },
     "output_type": "display_data"
    }
   ],
   "source": [
    "# 시도별 심야 전력 사용량 박스 플롯\n",
    "plt.figure(figsize=(15, 10))\n",
    "splot = sns.boxplot(x=\"시도\", y=\"전력 사용량\", data=dn)\n",
    "plt.title('시도별 심야 전력 사용량', fontsize=25)\n",
    "sfig = splot.get_figure()\n",
    "sfig.savefig('시도별 심야 전력 사용량.png')"
   ]
  },
  {
   "cell_type": "code",
   "execution_count": 26,
   "id": "5533c3a6",
   "metadata": {},
   "outputs": [
    {
     "data": {
      "text/html": [
       "<div>\n",
       "<style scoped>\n",
       "    .dataframe tbody tr th:only-of-type {\n",
       "        vertical-align: middle;\n",
       "    }\n",
       "\n",
       "    .dataframe tbody tr th {\n",
       "        vertical-align: top;\n",
       "    }\n",
       "\n",
       "    .dataframe thead th {\n",
       "        text-align: right;\n",
       "    }\n",
       "</style>\n",
       "<table border=\"1\" class=\"dataframe\">\n",
       "  <thead>\n",
       "    <tr style=\"text-align: right;\">\n",
       "      <th></th>\n",
       "      <th>시도</th>\n",
       "      <th>시군구</th>\n",
       "      <th>계약종별</th>\n",
       "      <th>년도</th>\n",
       "      <th>월</th>\n",
       "      <th>전력 사용량</th>\n",
       "      <th>확진자</th>\n",
       "      <th>평균기온</th>\n",
       "      <th>평균현지기압</th>\n",
       "      <th>평균상대습도</th>\n",
       "      <th>월합강수량</th>\n",
       "      <th>평균풍속</th>\n",
       "      <th>합계 일조시간</th>\n",
       "      <th>일조율</th>\n",
       "    </tr>\n",
       "  </thead>\n",
       "  <tbody>\n",
       "    <tr>\n",
       "      <th>31014</th>\n",
       "      <td>서울특별시</td>\n",
       "      <td>종로구</td>\n",
       "      <td>심 야</td>\n",
       "      <td>2020</td>\n",
       "      <td>1</td>\n",
       "      <td>2962411.0</td>\n",
       "      <td>7.0</td>\n",
       "      <td>1.6</td>\n",
       "      <td>1012.8</td>\n",
       "      <td>56</td>\n",
       "      <td>60.5</td>\n",
       "      <td>2.1</td>\n",
       "      <td>177.9</td>\n",
       "      <td>57.93</td>\n",
       "    </tr>\n",
       "    <tr>\n",
       "      <th>31020</th>\n",
       "      <td>서울특별시</td>\n",
       "      <td>중구</td>\n",
       "      <td>심 야</td>\n",
       "      <td>2020</td>\n",
       "      <td>1</td>\n",
       "      <td>643132.0</td>\n",
       "      <td>7.0</td>\n",
       "      <td>1.6</td>\n",
       "      <td>1012.8</td>\n",
       "      <td>56</td>\n",
       "      <td>60.5</td>\n",
       "      <td>2.1</td>\n",
       "      <td>177.9</td>\n",
       "      <td>57.93</td>\n",
       "    </tr>\n",
       "    <tr>\n",
       "      <th>31026</th>\n",
       "      <td>서울특별시</td>\n",
       "      <td>용산구</td>\n",
       "      <td>심 야</td>\n",
       "      <td>2020</td>\n",
       "      <td>1</td>\n",
       "      <td>782097.0</td>\n",
       "      <td>7.0</td>\n",
       "      <td>1.6</td>\n",
       "      <td>1012.8</td>\n",
       "      <td>56</td>\n",
       "      <td>60.5</td>\n",
       "      <td>2.1</td>\n",
       "      <td>177.9</td>\n",
       "      <td>57.93</td>\n",
       "    </tr>\n",
       "    <tr>\n",
       "      <th>31033</th>\n",
       "      <td>서울특별시</td>\n",
       "      <td>성동구</td>\n",
       "      <td>심 야</td>\n",
       "      <td>2020</td>\n",
       "      <td>1</td>\n",
       "      <td>462297.0</td>\n",
       "      <td>7.0</td>\n",
       "      <td>1.6</td>\n",
       "      <td>1012.8</td>\n",
       "      <td>56</td>\n",
       "      <td>60.5</td>\n",
       "      <td>2.1</td>\n",
       "      <td>177.9</td>\n",
       "      <td>57.93</td>\n",
       "    </tr>\n",
       "    <tr>\n",
       "      <th>31040</th>\n",
       "      <td>서울특별시</td>\n",
       "      <td>동대문구</td>\n",
       "      <td>심 야</td>\n",
       "      <td>2020</td>\n",
       "      <td>1</td>\n",
       "      <td>637287.0</td>\n",
       "      <td>7.0</td>\n",
       "      <td>1.6</td>\n",
       "      <td>1012.8</td>\n",
       "      <td>56</td>\n",
       "      <td>60.5</td>\n",
       "      <td>2.1</td>\n",
       "      <td>177.9</td>\n",
       "      <td>57.93</td>\n",
       "    </tr>\n",
       "    <tr>\n",
       "      <th>...</th>\n",
       "      <td>...</td>\n",
       "      <td>...</td>\n",
       "      <td>...</td>\n",
       "      <td>...</td>\n",
       "      <td>...</td>\n",
       "      <td>...</td>\n",
       "      <td>...</td>\n",
       "      <td>...</td>\n",
       "      <td>...</td>\n",
       "      <td>...</td>\n",
       "      <td>...</td>\n",
       "      <td>...</td>\n",
       "      <td>...</td>\n",
       "      <td>...</td>\n",
       "    </tr>\n",
       "    <tr>\n",
       "      <th>37171</th>\n",
       "      <td>울산광역시</td>\n",
       "      <td>북구</td>\n",
       "      <td>심 야</td>\n",
       "      <td>2020</td>\n",
       "      <td>12</td>\n",
       "      <td>1132712.0</td>\n",
       "      <td>475.0</td>\n",
       "      <td>3.4</td>\n",
       "      <td>1014.1</td>\n",
       "      <td>47</td>\n",
       "      <td>5.7</td>\n",
       "      <td>2.4</td>\n",
       "      <td>236.0</td>\n",
       "      <td>77.53</td>\n",
       "    </tr>\n",
       "    <tr>\n",
       "      <th>37178</th>\n",
       "      <td>울산광역시</td>\n",
       "      <td>동구</td>\n",
       "      <td>심 야</td>\n",
       "      <td>2020</td>\n",
       "      <td>12</td>\n",
       "      <td>438401.0</td>\n",
       "      <td>475.0</td>\n",
       "      <td>3.4</td>\n",
       "      <td>1014.1</td>\n",
       "      <td>47</td>\n",
       "      <td>5.7</td>\n",
       "      <td>2.4</td>\n",
       "      <td>236.0</td>\n",
       "      <td>77.53</td>\n",
       "    </tr>\n",
       "    <tr>\n",
       "      <th>37185</th>\n",
       "      <td>울산광역시</td>\n",
       "      <td>중구</td>\n",
       "      <td>심 야</td>\n",
       "      <td>2020</td>\n",
       "      <td>12</td>\n",
       "      <td>824371.0</td>\n",
       "      <td>475.0</td>\n",
       "      <td>3.4</td>\n",
       "      <td>1014.1</td>\n",
       "      <td>47</td>\n",
       "      <td>5.7</td>\n",
       "      <td>2.4</td>\n",
       "      <td>236.0</td>\n",
       "      <td>77.53</td>\n",
       "    </tr>\n",
       "    <tr>\n",
       "      <th>37192</th>\n",
       "      <td>울산광역시</td>\n",
       "      <td>남구</td>\n",
       "      <td>심 야</td>\n",
       "      <td>2020</td>\n",
       "      <td>12</td>\n",
       "      <td>2305717.0</td>\n",
       "      <td>475.0</td>\n",
       "      <td>3.4</td>\n",
       "      <td>1014.1</td>\n",
       "      <td>47</td>\n",
       "      <td>5.7</td>\n",
       "      <td>2.4</td>\n",
       "      <td>236.0</td>\n",
       "      <td>77.53</td>\n",
       "    </tr>\n",
       "    <tr>\n",
       "      <th>37199</th>\n",
       "      <td>울산광역시</td>\n",
       "      <td>울주군</td>\n",
       "      <td>심 야</td>\n",
       "      <td>2020</td>\n",
       "      <td>12</td>\n",
       "      <td>5547052.0</td>\n",
       "      <td>475.0</td>\n",
       "      <td>3.4</td>\n",
       "      <td>1014.1</td>\n",
       "      <td>47</td>\n",
       "      <td>5.7</td>\n",
       "      <td>2.4</td>\n",
       "      <td>236.0</td>\n",
       "      <td>77.53</td>\n",
       "    </tr>\n",
       "  </tbody>\n",
       "</table>\n",
       "<p>888 rows × 14 columns</p>\n",
       "</div>"
      ],
      "text/plain": [
       "          시도   시군구 계약종별    년도   월     전력 사용량    확진자  평균기온  평균현지기압  평균상대습도  \\\n",
       "31014  서울특별시   종로구  심 야  2020   1  2962411.0    7.0   1.6  1012.8      56   \n",
       "31020  서울특별시    중구  심 야  2020   1   643132.0    7.0   1.6  1012.8      56   \n",
       "31026  서울특별시   용산구  심 야  2020   1   782097.0    7.0   1.6  1012.8      56   \n",
       "31033  서울특별시   성동구  심 야  2020   1   462297.0    7.0   1.6  1012.8      56   \n",
       "31040  서울특별시  동대문구  심 야  2020   1   637287.0    7.0   1.6  1012.8      56   \n",
       "...      ...   ...  ...   ...  ..        ...    ...   ...     ...     ...   \n",
       "37171  울산광역시    북구  심 야  2020  12  1132712.0  475.0   3.4  1014.1      47   \n",
       "37178  울산광역시    동구  심 야  2020  12   438401.0  475.0   3.4  1014.1      47   \n",
       "37185  울산광역시    중구  심 야  2020  12   824371.0  475.0   3.4  1014.1      47   \n",
       "37192  울산광역시    남구  심 야  2020  12  2305717.0  475.0   3.4  1014.1      47   \n",
       "37199  울산광역시   울주군  심 야  2020  12  5547052.0  475.0   3.4  1014.1      47   \n",
       "\n",
       "       월합강수량  평균풍속  합계 일조시간    일조율  \n",
       "31014   60.5   2.1    177.9  57.93  \n",
       "31020   60.5   2.1    177.9  57.93  \n",
       "31026   60.5   2.1    177.9  57.93  \n",
       "31033   60.5   2.1    177.9  57.93  \n",
       "31040   60.5   2.1    177.9  57.93  \n",
       "...      ...   ...      ...    ...  \n",
       "37171    5.7   2.4    236.0  77.53  \n",
       "37178    5.7   2.4    236.0  77.53  \n",
       "37185    5.7   2.4    236.0  77.53  \n",
       "37192    5.7   2.4    236.0  77.53  \n",
       "37199    5.7   2.4    236.0  77.53  \n",
       "\n",
       "[888 rows x 14 columns]"
      ]
     },
     "execution_count": 26,
     "metadata": {},
     "output_type": "execute_result"
    }
   ],
   "source": [
    "dn_20 = dn[(dn['년도']==2020)]\n",
    "dn_20"
   ]
  },
  {
   "cell_type": "code",
   "execution_count": 27,
   "id": "f4c5cf99",
   "metadata": {},
   "outputs": [
    {
     "data": {
      "image/png": "[encoded data removed]",
      "text/plain": [
       "<Figure size 1080x720 with 1 Axes>"
      ]
     },
     "metadata": {
      "needs_background": "light"
     },
     "output_type": "display_data"
    }
   ],
   "source": [
    "# 2020 시도별 심야\n",
    "plt.figure(figsize=(15, 10))\n",
    "splot = sns.barplot(data=dn_20, x='월', y='전력 사용량', hue='시도')\n",
    "plt.title('2020 시도별 심야', fontsize=25)\n",
    "plt.show()\n",
    "sfig = splot.get_figure()\n",
    "# sfig.savefig('2020 시도별 심야.png')"
   ]
  },
  {
   "cell_type": "markdown",
   "id": "5d933a68",
   "metadata": {},
   "source": [
    "2020년 코로나19와 역대급 장마로 인해 전체적인 전기 사용량이 줄었다."
   ]
  },
  {
   "cell_type": "markdown",
   "id": "c22b938b",
   "metadata": {},
   "source": [
    "**가로등과 심야전기의 전체 비율**"
   ]
  },
  {
   "cell_type": "code",
   "execution_count": 28,
   "id": "1e203451",
   "metadata": {},
   "outputs": [
    {
     "data": {
      "text/plain": [
       "1117600493355.0"
      ]
     },
     "execution_count": 28,
     "metadata": {},
     "output_type": "execute_result"
    }
   ],
   "source": [
    "# 전체 전력 사용량 합계\n",
    "df['전력 사용량'].sum()"
   ]
  },
  {
   "cell_type": "code",
   "execution_count": 29,
   "id": "cdad2706",
   "metadata": {},
   "outputs": [
    {
     "data": {
      "text/plain": [
       "7236137576.0"
      ]
     },
     "execution_count": 29,
     "metadata": {},
     "output_type": "execute_result"
    }
   ],
   "source": [
    "# 가로등 전력 사용량 전체 값\n",
    "sl['전력 사용량'].sum()"
   ]
  },
  {
   "cell_type": "code",
   "execution_count": 30,
   "id": "4ea5808f",
   "metadata": {},
   "outputs": [
    {
     "data": {
      "text/plain": [
       "11821843782.0"
      ]
     },
     "execution_count": 30,
     "metadata": {},
     "output_type": "execute_result"
    }
   ],
   "source": [
    "# 심야 전력 사용량 전체 값\n",
    "dn['전력 사용량'].sum()"
   ]
  },
  {
   "cell_type": "code",
   "execution_count": 31,
   "id": "4013052c",
   "metadata": {},
   "outputs": [
    {
     "data": {
      "text/plain": [
       "0.647470864501621"
      ]
     },
     "execution_count": 31,
     "metadata": {},
     "output_type": "execute_result"
    }
   ],
   "source": [
    "# 전체 가로등 비율\n",
    "7236137576.0/1117600493355.0*100"
   ]
  },
  {
   "cell_type": "code",
   "execution_count": 32,
   "id": "65a4c350",
   "metadata": {},
   "outputs": [
    {
     "data": {
      "text/plain": [
       "1.0577879888466417"
      ]
     },
     "execution_count": 32,
     "metadata": {},
     "output_type": "execute_result"
    }
   ],
   "source": [
    "# 전체 심야 비율\n",
    "11821843782.0/1117600493355.0*100"
   ]
  },
  {
   "cell_type": "code",
   "execution_count": 33,
   "id": "8a6d8813",
   "metadata": {},
   "outputs": [],
   "source": [
    "# 전력 사용량 함수\n",
    "def elec_use(df, year):\n",
    "    a = df[(df['년도']==year)]\n",
    "    b = a['전력 사용량'].sum()\n",
    "    return b"
   ]
  },
  {
   "cell_type": "code",
   "execution_count": 34,
   "id": "0b823dcf",
   "metadata": {},
   "outputs": [],
   "source": [
    "# 가로등 비율 함수\n",
    "def ratio_g(df, year):\n",
    "    a = df[(df['년도']==year)]\n",
    "    b = a[(a['계약종별']=='가로등')]\n",
    "    c = b['전력 사용량'].sum()\n",
    "    result = c/elec_use(df, year)*100\n",
    "    x = np.round(result, 2)\n",
    "    return x"
   ]
  },
  {
   "cell_type": "code",
   "execution_count": 35,
   "id": "99c7fae2",
   "metadata": {},
   "outputs": [],
   "source": [
    "# 심야 비율 함수\n",
    "def ratio_s(df, year):\n",
    "    a = df[(df['년도']==year)]\n",
    "    b = a[(a['계약종별']=='심 야')]\n",
    "    c = b['전력 사용량'].sum()\n",
    "    result = c/elec_use(df, year)*100\n",
    "    x = np.round(result, 2)\n",
    "    return x"
   ]
  },
  {
   "cell_type": "code",
   "execution_count": 36,
   "id": "d89e9548",
   "metadata": {},
   "outputs": [
    {
     "name": "stdout",
     "output_type": "stream",
     "text": [
      "가로등 전력사용양 비율\n",
      "2015 : 0.69\n",
      "2016 : 0.67\n",
      "2017 : 0.67\n",
      "2018 : 0.64\n",
      "2019 : 0.64\n",
      "2020 : 0.63\n",
      "2021 : 0.59\n",
      "2022 : 0.62\n"
     ]
    }
   ],
   "source": [
    "print('가로등 전력사용양 비율')\n",
    "print('2015 :', ratio_g(df, 2015))\n",
    "print('2016 :', ratio_g(df, 2016))\n",
    "print('2017 :', ratio_g(df, 2017))\n",
    "print('2018 :', ratio_g(df, 2018))\n",
    "print('2019 :', ratio_g(df, 2019))\n",
    "print('2020 :', ratio_g(df, 2020))\n",
    "print('2021 :', ratio_g(df, 2021))\n",
    "print('2022 :', ratio_g(df, 2022))"
   ]
  },
  {
   "cell_type": "code",
   "execution_count": 37,
   "id": "e7cf4b67",
   "metadata": {},
   "outputs": [
    {
     "name": "stdout",
     "output_type": "stream",
     "text": [
      "심야 전력사용양 비율\n",
      "2015 : 1.32\n",
      "2016 : 1.21\n",
      "2017 : 1.13\n",
      "2018 : 1.05\n",
      "2019 : 0.97\n",
      "2020 : 0.9\n",
      "2021 : 0.84\n",
      "2022 : 1.08\n"
     ]
    }
   ],
   "source": [
    "print('심야 전력사용양 비율')\n",
    "print('2015 :', ratio_s(df, 2015))\n",
    "print('2016 :', ratio_s(df, 2016))\n",
    "print('2017 :', ratio_s(df, 2017))\n",
    "print('2018 :', ratio_s(df, 2018))\n",
    "print('2019 :', ratio_s(df, 2019))\n",
    "print('2020 :', ratio_s(df, 2020))\n",
    "print('2021 :', ratio_s(df, 2021))\n",
    "print('2022 :', ratio_s(df, 2022))"
   ]
  },
  {
   "cell_type": "code",
   "execution_count": 38,
   "id": "3c6a6d5d",
   "metadata": {},
   "outputs": [
    {
     "name": "stderr",
     "output_type": "stream",
     "text": [
      "No handles with labels found to put in legend.\n"
     ]
    },
    {
     "data": {
      "image/png": "[encoded data removed]",
      "text/plain": [
       "<Figure size 432x288 with 2 Axes>"
      ]
     },
     "metadata": {
      "needs_background": "light"
     },
     "output_type": "display_data"
    }
   ],
   "source": [
    "# 가로등\n",
    "sl_year_group = sl.groupby(sl['년도'])['전력 사용량'].sum()\n",
    "sl_covid_group = sl.groupby(sl['년도'])['확진자'].sum()\n",
    "\n",
    "fig, ax1 = plt.subplots()\n",
    "ax1.bar(sl_covid_group.index, sl_covid_group.values, color='green', alpha=0.7, label='코로나 확진자 합계')\n",
    "ax1.set_ylim(0,7e6)\n",
    "ax1.set_xlabel('Year')\n",
    "ax1.set_ylabel('코로나 확진자 합계')\n",
    "ax1.tick_params(axis='both', direction='in')\n",
    "\n",
    "ax2 = ax1.twinx()\n",
    "ax2.plot(sl_year_group.index, sl_year_group.values,'-s', color='red', markersize=4, linewidth=3, alpha=0.7)\n",
    "ax2.set_ylim(0, 1e10) \n",
    "ax2.set_ylabel('연도별 전력 사용량')\n",
    "ax2.tick_params(axis='both', direction='in')\n",
    "\n",
    "ax1.set_zorder(ax2.get_zorder() + 10)\n",
    "ax1.patch.set_visible(False)\n",
    "\n",
    "ax1.legend(loc='upper left')\n",
    "plt.legend(loc='upper right')\n",
    "\n",
    "plt.show()"
   ]
  },
  {
   "cell_type": "code",
   "execution_count": 39,
   "id": "dcc86587",
   "metadata": {},
   "outputs": [
    {
     "name": "stderr",
     "output_type": "stream",
     "text": [
      "No handles with labels found to put in legend.\n"
     ]
    },
    {
     "data": {
      "image/png": "[encoded data removed]",
      "text/plain": [
       "<Figure size 432x288 with 2 Axes>"
      ]
     },
     "metadata": {
      "needs_background": "light"
     },
     "output_type": "display_data"
    }
   ],
   "source": [
    "# 심야\n",
    "dn_year_group = dn.groupby(dn['년도'])['전력 사용량'].sum()\n",
    "dn_covid_group = dn.groupby(dn['년도'])['확진자'].sum()\n",
    "\n",
    "fig, ax1 = plt.subplots()\n",
    "ax1.bar(dn_covid_group.index, dn_covid_group.values, color='green', alpha=0.7, label='코로나 확진자 합계')\n",
    "ax1.set_ylim(0,7e6)\n",
    "ax1.set_xlabel('Year')\n",
    "ax1.set_ylabel('코로나 확진자 합계')\n",
    "ax1.tick_params(axis='both', direction='in')\n",
    "\n",
    "ax2 = ax1.twinx()\n",
    "ax2.plot(dn_year_group.index, dn_year_group.values,'-s', color='red', markersize=4, linewidth=3, alpha=0.7)\n",
    "ax2.set_ylim(0, 1e10) \n",
    "ax2.set_ylabel('연도별 전력 사용량')\n",
    "ax2.tick_params(axis='both', direction='in')\n",
    "\n",
    "ax1.set_zorder(ax2.get_zorder() + 10)\n",
    "ax1.patch.set_visible(False)\n",
    "\n",
    "ax1.legend(loc='upper left')\n",
    "plt.legend(loc='upper right')\n",
    "\n",
    "plt.show()"
   ]
  },
  {
   "cell_type": "code",
   "execution_count": 40,
   "id": "6cfceaea",
   "metadata": {},
   "outputs": [
    {
     "data": {
      "text/plain": [
       "1028793.0    2\n",
       "1892502.0    2\n",
       "715199.0     2\n",
       "817225.0     2\n",
       "914465.0     2\n",
       "            ..\n",
       "520518.0     1\n",
       "544533.0     1\n",
       "487806.0     1\n",
       "401998.0     1\n",
       "2703994.0    1\n",
       "Name: 전력 사용량, Length: 6281, dtype: int64"
      ]
     },
     "execution_count": 40,
     "metadata": {},
     "output_type": "execute_result"
    }
   ],
   "source": [
    "sl['전력 사용량'].value_counts()"
   ]
  },
  {
   "cell_type": "code",
   "execution_count": 41,
   "id": "537cf297",
   "metadata": {},
   "outputs": [
    {
     "data": {
      "text/plain": [
       "array(['서구', '중구'], dtype=object)"
      ]
     },
     "execution_count": 41,
     "metadata": {},
     "output_type": "execute_result"
    }
   ],
   "source": [
    "# 인천광역시\n",
    "sl[sl['전력 사용량']>= 3000000.0]['시군구'].unique()"
   ]
  },
  {
   "cell_type": "code",
   "execution_count": 42,
   "id": "efc509eb",
   "metadata": {},
   "outputs": [
    {
     "data": {
      "text/plain": [
       "3655871.0"
      ]
     },
     "execution_count": 42,
     "metadata": {},
     "output_type": "execute_result"
    }
   ],
   "source": [
    "sl['전력 사용량'].max()"
   ]
  },
  {
   "cell_type": "code",
   "execution_count": 43,
   "id": "532f0d89",
   "metadata": {},
   "outputs": [
    {
     "data": {
      "text/plain": [
       "23191561.0"
      ]
     },
     "execution_count": 43,
     "metadata": {},
     "output_type": "execute_result"
    }
   ],
   "source": [
    "dn['전력 사용량'].max()"
   ]
  },
  {
   "cell_type": "markdown",
   "id": "fac44402",
   "metadata": {},
   "source": [
    "**기온 영향력 확인**"
   ]
  },
  {
   "cell_type": "code",
   "execution_count": 44,
   "id": "c851f4f6",
   "metadata": {},
   "outputs": [
    {
     "name": "stderr",
     "output_type": "stream",
     "text": [
      "No handles with labels found to put in legend.\n"
     ]
    },
    {
     "data": {
      "image/png": "[encoded data removed]",
      "text/plain": [
       "<Figure size 432x288 with 2 Axes>"
      ]
     },
     "metadata": {
      "needs_background": "light"
     },
     "output_type": "display_data"
    }
   ],
   "source": [
    "# 가로등\n",
    "sl_year_group = sl.groupby(sl['월'])['전력 사용량'].sum()\n",
    "sl_covid_group = sl.groupby(sl['월'])['평균기온'].sum()\n",
    "\n",
    "fig, ax1 = plt.subplots()\n",
    "ax1.bar(sl_covid_group.index, sl_covid_group.values, color='green', alpha=0.7, label='평균 기온')\n",
    "ax1.set_ylim(0,2e4)\n",
    "ax1.set_xlabel('Month')\n",
    "ax1.set_ylabel('기온')\n",
    "ax1.tick_params(axis='both', direction='in')\n",
    "\n",
    "ax2 = ax1.twinx()\n",
    "ax2.plot(sl_year_group.index, sl_year_group.values,'-s', color='red', markersize=4, linewidth=3, alpha=0.7)\n",
    "ax2.set_ylim(0, 2e9) \n",
    "ax2.set_ylabel('달별 전력 사용량')\n",
    "ax2.tick_params(axis='both', direction='in')\n",
    "\n",
    "ax1.set_zorder(ax2.get_zorder() + 10)\n",
    "ax1.patch.set_visible(False)\n",
    "\n",
    "ax1.legend(loc='upper left')\n",
    "plt.legend(loc='upper right')\n",
    "\n",
    "plt.show()"
   ]
  },
  {
   "cell_type": "code",
   "execution_count": 45,
   "id": "3823424d",
   "metadata": {},
   "outputs": [
    {
     "name": "stderr",
     "output_type": "stream",
     "text": [
      "No handles with labels found to put in legend.\n"
     ]
    },
    {
     "data": {
      "image/png": "[encoded data removed]",
      "text/plain": [
       "<Figure size 432x288 with 2 Axes>"
      ]
     },
     "metadata": {
      "needs_background": "light"
     },
     "output_type": "display_data"
    }
   ],
   "source": [
    "# 심야\n",
    "dn_year_group = dn.groupby(dn['월'])['전력 사용량'].sum()\n",
    "dn_covid_group = dn.groupby(dn['월'])['평균기온'].sum()\n",
    "\n",
    "fig, ax1 = plt.subplots()\n",
    "ax1.bar(dn_covid_group.index, dn_covid_group.values, color='green', alpha=0.7, label='평균 기온')\n",
    "ax1.set_ylim(0,2e4)\n",
    "ax1.set_xlabel('Month')\n",
    "ax1.set_ylabel('기온')\n",
    "ax1.tick_params(axis='both', direction='in')\n",
    "\n",
    "ax2 = ax1.twinx()\n",
    "ax2.plot(dn_year_group.index, dn_year_group.values,'-s', color='red', markersize=4, linewidth=3, alpha=0.7)\n",
    "ax2.set_ylim(0, 2e9) \n",
    "ax2.set_ylabel('달별 전력 사용량')\n",
    "ax2.tick_params(axis='both', direction='in')\n",
    "\n",
    "ax1.set_zorder(ax2.get_zorder() + 10)\n",
    "ax1.patch.set_visible(False)\n",
    "\n",
    "ax1.legend(loc='upper left')\n",
    "plt.legend(loc='upper right')\n",
    "\n",
    "plt.show()"
   ]
  },
  {
   "cell_type": "markdown",
   "id": "800b2939",
   "metadata": {},
   "source": [
    "**심야 전력 사용량은 기온이 낮으면 전력 사용량이 늘어나며 기온이 높으면 전력 사용량이 줄어드는 그래프를 보이므로 기온과 상관관계가 있다.**"
   ]
  },
  {
   "cell_type": "code",
   "execution_count": 51,
   "id": "0f647c67",
   "metadata": {},
   "outputs": [],
   "source": [
    "sl_y = sl['전력 사용량']\n",
    "dn_y = dn['전력 사용량']"
   ]
  },
  {
   "cell_type": "code",
   "execution_count": 52,
   "id": "32b5cab1",
   "metadata": {},
   "outputs": [
    {
     "data": {
      "text/plain": [
       "<AxesSubplot:>"
      ]
     },
     "execution_count": 52,
     "metadata": {},
     "output_type": "execute_result"
    },
    {
     "data": {
      "image/png": "[encoded data removed]",
      "text/plain": [
       "<Figure size 432x288 with 1 Axes>"
      ]
     },
     "metadata": {
      "needs_background": "light"
     },
     "output_type": "display_data"
    }
   ],
   "source": [
    "# 가로등 분포\n",
    "sl_y.hist(bins=100)"
   ]
  },
  {
   "cell_type": "code",
   "execution_count": 54,
   "id": "3ba516b9",
   "metadata": {},
   "outputs": [],
   "source": [
    "log_sl = np.log1p(sl_y+1e-05)"
   ]
  },
  {
   "cell_type": "code",
   "execution_count": 55,
   "id": "80e32d88",
   "metadata": {},
   "outputs": [
    {
     "data": {
      "text/plain": [
       "<AxesSubplot:>"
      ]
     },
     "execution_count": 55,
     "metadata": {},
     "output_type": "execute_result"
    },
    {
     "data": {
      "image/png": "[encoded data removed]",
      "text/plain": [
       "<Figure size 432x288 with 1 Axes>"
      ]
     },
     "metadata": {
      "needs_background": "light"
     },
     "output_type": "display_data"
    }
   ],
   "source": [
    "log_sl.hist(bins=100)"
   ]
  },
  {
   "cell_type": "code",
   "execution_count": 53,
   "id": "4f01b4c3",
   "metadata": {},
   "outputs": [
    {
     "data": {
      "text/plain": [
       "<AxesSubplot:>"
      ]
     },
     "execution_count": 53,
     "metadata": {},
     "output_type": "execute_result"
    },
    {
     "data": {
      "image/png": "[encoded data removed]",
      "text/plain": [
       "<Figure size 432x288 with 1 Axes>"
      ]
     },
     "metadata": {
      "needs_background": "light"
     },
     "output_type": "display_data"
    }
   ],
   "source": [
    "# 심야\n",
    "dn_y.hist(bins=100)"
   ]
  },
  {
   "cell_type": "code",
   "execution_count": 56,
   "id": "17391567",
   "metadata": {},
   "outputs": [
    {
     "data": {
      "text/plain": [
       "<AxesSubplot:>"
      ]
     },
     "execution_count": 56,
     "metadata": {},
     "output_type": "execute_result"
    },
    {
     "data": {
      "image/png": "[encoded data removed]",
      "text/plain": [
       "<Figure size 432x288 with 1 Axes>"
      ]
     },
     "metadata": {
      "needs_background": "light"
     },
     "output_type": "display_data"
    }
   ],
   "source": [
    "log_dn = np.log1p(dn_y+1e-05)\n",
    "log_dn.hist(bins=100)"
   ]
  },
  {
   "cell_type": "code",
   "execution_count": null,
   "id": "fc0efefa",
   "metadata": {},
   "outputs": [],
   "source": []
  }
 ],
 "metadata": {
  "kernelspec": {
   "display_name": "Python 3 (ipykernel)",
   "language": "python",
   "name": "python3"
  },
  "language_info": {
   "codemirror_mode": {
    "name": "ipython",
    "version": 3
   },
   "file_extension": ".py",
   "mimetype": "text/x-python",
   "name": "python",
   "nbconvert_exporter": "python",
   "pygments_lexer": "ipython3",
   "version": "3.9.7"
  }
 },
 "nbformat": 4,
 "nbformat_minor": 5
}
