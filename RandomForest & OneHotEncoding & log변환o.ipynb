{
 "cells": [
  {
   "cell_type": "code",
   "execution_count": 1,
   "id": "79251448",
   "metadata": {},
   "outputs": [],
   "source": [
    "import pandas as pd\n",
    "import numpy as np\n",
    "import matplotlib.pyplot as plt\n",
    "import seaborn as sns\n",
    "\n",
    "import warnings\n",
    "warnings.filterwarnings(\"ignore\")\n",
    "\n",
    "from sklearn.model_selection import train_test_split, cross_val_score\n",
    "from sklearn.preprocessing import StandardScaler, LabelEncoder\n",
    "from sklearn.ensemble import RandomForestClassifier, RandomForestRegressor\n",
    "from sklearn.metrics import mean_squared_error"
   ]
  },
  {
   "cell_type": "code",
   "execution_count": 2,
   "id": "73cd4fb8",
   "metadata": {},
   "outputs": [],
   "source": [
    "import matplotlib\n",
    "matplotlib.rcParams['axes.unicode_minus'] = False\n",
    "\n",
    "import matplotlib\n",
    "from matplotlib import font_manager, rc\n",
    "import platform\n",
    "\n",
    "if platform.system() == 'Windows':\n",
    "# 윈도우인 경우\n",
    "    font_name = font_manager.FontProperties(fname=\"c:/Windows/Fonts/malgun.ttf\").get_name()\n",
    "    rc('font', family=font_name)\n",
    "else:    \n",
    "# Mac 인 경우\n",
    "    rc('font', family='AppleGothic')\n",
    "    \n",
    "matplotlib.rcParams['axes.unicode_minus'] = False "
   ]
  },
  {
   "cell_type": "code",
   "execution_count": 3,
   "id": "2cf4a606",
   "metadata": {},
   "outputs": [],
   "source": [
    "df = pd.read_csv('./datasets/elec_data.csv')"
   ]
  },
  {
   "cell_type": "code",
   "execution_count": 4,
   "id": "36d7fe68",
   "metadata": {},
   "outputs": [
    {
     "data": {
      "text/plain": [
       "시도            0\n",
       "시군구           0\n",
       "계약종별          0\n",
       "년도            0\n",
       "월             0\n",
       "전력 사용량        0\n",
       "확진자           0\n",
       "평균기온          0\n",
       "평균현지기압        0\n",
       "평균상대습도        0\n",
       "월합강수량         0\n",
       "평균풍속          0\n",
       "합계 일조시간       0\n",
       "일조율           0\n",
       "합계 일사량     3087\n",
       "dtype: int64"
      ]
     },
     "execution_count": 4,
     "metadata": {},
     "output_type": "execute_result"
    }
   ],
   "source": [
    "# 널 값 확인\n",
    "df.isna().sum()"
   ]
  },
  {
   "cell_type": "code",
   "execution_count": 5,
   "id": "a898c692",
   "metadata": {},
   "outputs": [],
   "source": [
    "# 합계 일사량 column 삭제\n",
    "df.drop('합계 일사량', axis=1, inplace=True)"
   ]
  },
  {
   "cell_type": "code",
   "execution_count": 6,
   "id": "8023fff1",
   "metadata": {},
   "outputs": [
    {
     "data": {
      "text/plain": [
       "0"
      ]
     },
     "execution_count": 6,
     "metadata": {},
     "output_type": "execute_result"
    }
   ],
   "source": [
    "# 널 값 확인\n",
    "df.isna().sum().sum()"
   ]
  },
  {
   "cell_type": "code",
   "execution_count": 7,
   "id": "175f8983",
   "metadata": {},
   "outputs": [
    {
     "data": {
      "text/html": [
       "<div>\n",
       "<style scoped>\n",
       "    .dataframe tbody tr th:only-of-type {\n",
       "        vertical-align: middle;\n",
       "    }\n",
       "\n",
       "    .dataframe tbody tr th {\n",
       "        vertical-align: top;\n",
       "    }\n",
       "\n",
       "    .dataframe thead th {\n",
       "        text-align: right;\n",
       "    }\n",
       "</style>\n",
       "<table border=\"1\" class=\"dataframe\">\n",
       "  <thead>\n",
       "    <tr style=\"text-align: right;\">\n",
       "      <th></th>\n",
       "      <th>시도</th>\n",
       "      <th>시군구</th>\n",
       "      <th>계약종별</th>\n",
       "      <th>년도</th>\n",
       "      <th>월</th>\n",
       "      <th>전력 사용량</th>\n",
       "      <th>확진자</th>\n",
       "      <th>평균기온</th>\n",
       "      <th>평균현지기압</th>\n",
       "      <th>평균상대습도</th>\n",
       "      <th>월합강수량</th>\n",
       "      <th>평균풍속</th>\n",
       "      <th>합계 일조시간</th>\n",
       "      <th>일조율</th>\n",
       "    </tr>\n",
       "  </thead>\n",
       "  <tbody>\n",
       "    <tr>\n",
       "      <th>0</th>\n",
       "      <td>서울특별시</td>\n",
       "      <td>종로구</td>\n",
       "      <td>주택용</td>\n",
       "      <td>2015</td>\n",
       "      <td>1</td>\n",
       "      <td>2.414819e+07</td>\n",
       "      <td>0.0</td>\n",
       "      <td>-0.9</td>\n",
       "      <td>1013.8</td>\n",
       "      <td>56</td>\n",
       "      <td>11.3</td>\n",
       "      <td>2.6</td>\n",
       "      <td>193.3</td>\n",
       "      <td>62.94</td>\n",
       "    </tr>\n",
       "    <tr>\n",
       "      <th>1</th>\n",
       "      <td>서울특별시</td>\n",
       "      <td>종로구</td>\n",
       "      <td>일반용</td>\n",
       "      <td>2015</td>\n",
       "      <td>1</td>\n",
       "      <td>1.181337e+08</td>\n",
       "      <td>0.0</td>\n",
       "      <td>-0.9</td>\n",
       "      <td>1013.8</td>\n",
       "      <td>56</td>\n",
       "      <td>11.3</td>\n",
       "      <td>2.6</td>\n",
       "      <td>193.3</td>\n",
       "      <td>62.94</td>\n",
       "    </tr>\n",
       "    <tr>\n",
       "      <th>2</th>\n",
       "      <td>서울특별시</td>\n",
       "      <td>종로구</td>\n",
       "      <td>교육용</td>\n",
       "      <td>2015</td>\n",
       "      <td>1</td>\n",
       "      <td>9.619909e+06</td>\n",
       "      <td>0.0</td>\n",
       "      <td>-0.9</td>\n",
       "      <td>1013.8</td>\n",
       "      <td>56</td>\n",
       "      <td>11.3</td>\n",
       "      <td>2.6</td>\n",
       "      <td>193.3</td>\n",
       "      <td>62.94</td>\n",
       "    </tr>\n",
       "    <tr>\n",
       "      <th>3</th>\n",
       "      <td>서울특별시</td>\n",
       "      <td>종로구</td>\n",
       "      <td>산업용</td>\n",
       "      <td>2015</td>\n",
       "      <td>1</td>\n",
       "      <td>6.580369e+06</td>\n",
       "      <td>0.0</td>\n",
       "      <td>-0.9</td>\n",
       "      <td>1013.8</td>\n",
       "      <td>56</td>\n",
       "      <td>11.3</td>\n",
       "      <td>2.6</td>\n",
       "      <td>193.3</td>\n",
       "      <td>62.94</td>\n",
       "    </tr>\n",
       "    <tr>\n",
       "      <th>4</th>\n",
       "      <td>서울특별시</td>\n",
       "      <td>종로구</td>\n",
       "      <td>농사용</td>\n",
       "      <td>2015</td>\n",
       "      <td>1</td>\n",
       "      <td>2.848000e+03</td>\n",
       "      <td>0.0</td>\n",
       "      <td>-0.9</td>\n",
       "      <td>1013.8</td>\n",
       "      <td>56</td>\n",
       "      <td>11.3</td>\n",
       "      <td>2.6</td>\n",
       "      <td>193.3</td>\n",
       "      <td>62.94</td>\n",
       "    </tr>\n",
       "    <tr>\n",
       "      <th>...</th>\n",
       "      <td>...</td>\n",
       "      <td>...</td>\n",
       "      <td>...</td>\n",
       "      <td>...</td>\n",
       "      <td>...</td>\n",
       "      <td>...</td>\n",
       "      <td>...</td>\n",
       "      <td>...</td>\n",
       "      <td>...</td>\n",
       "      <td>...</td>\n",
       "      <td>...</td>\n",
       "      <td>...</td>\n",
       "      <td>...</td>\n",
       "      <td>...</td>\n",
       "    </tr>\n",
       "    <tr>\n",
       "      <th>43916</th>\n",
       "      <td>울산광역시</td>\n",
       "      <td>울주군</td>\n",
       "      <td>교육용</td>\n",
       "      <td>2022</td>\n",
       "      <td>1</td>\n",
       "      <td>9.139668e+06</td>\n",
       "      <td>2164.0</td>\n",
       "      <td>2.6</td>\n",
       "      <td>1012.6</td>\n",
       "      <td>39</td>\n",
       "      <td>0.9</td>\n",
       "      <td>2.3</td>\n",
       "      <td>235.2</td>\n",
       "      <td>75.34</td>\n",
       "    </tr>\n",
       "    <tr>\n",
       "      <th>43917</th>\n",
       "      <td>울산광역시</td>\n",
       "      <td>울주군</td>\n",
       "      <td>산업용</td>\n",
       "      <td>2022</td>\n",
       "      <td>1</td>\n",
       "      <td>1.030417e+09</td>\n",
       "      <td>2164.0</td>\n",
       "      <td>2.6</td>\n",
       "      <td>1012.6</td>\n",
       "      <td>39</td>\n",
       "      <td>0.9</td>\n",
       "      <td>2.3</td>\n",
       "      <td>235.2</td>\n",
       "      <td>75.34</td>\n",
       "    </tr>\n",
       "    <tr>\n",
       "      <th>43918</th>\n",
       "      <td>울산광역시</td>\n",
       "      <td>울주군</td>\n",
       "      <td>농사용</td>\n",
       "      <td>2022</td>\n",
       "      <td>1</td>\n",
       "      <td>6.842901e+06</td>\n",
       "      <td>2164.0</td>\n",
       "      <td>2.6</td>\n",
       "      <td>1012.6</td>\n",
       "      <td>39</td>\n",
       "      <td>0.9</td>\n",
       "      <td>2.3</td>\n",
       "      <td>235.2</td>\n",
       "      <td>75.34</td>\n",
       "    </tr>\n",
       "    <tr>\n",
       "      <th>43919</th>\n",
       "      <td>울산광역시</td>\n",
       "      <td>울주군</td>\n",
       "      <td>가로등</td>\n",
       "      <td>2022</td>\n",
       "      <td>1</td>\n",
       "      <td>2.703994e+06</td>\n",
       "      <td>2164.0</td>\n",
       "      <td>2.6</td>\n",
       "      <td>1012.6</td>\n",
       "      <td>39</td>\n",
       "      <td>0.9</td>\n",
       "      <td>2.3</td>\n",
       "      <td>235.2</td>\n",
       "      <td>75.34</td>\n",
       "    </tr>\n",
       "    <tr>\n",
       "      <th>43920</th>\n",
       "      <td>울산광역시</td>\n",
       "      <td>울주군</td>\n",
       "      <td>심 야</td>\n",
       "      <td>2022</td>\n",
       "      <td>1</td>\n",
       "      <td>6.547839e+06</td>\n",
       "      <td>2164.0</td>\n",
       "      <td>2.6</td>\n",
       "      <td>1012.6</td>\n",
       "      <td>39</td>\n",
       "      <td>0.9</td>\n",
       "      <td>2.3</td>\n",
       "      <td>235.2</td>\n",
       "      <td>75.34</td>\n",
       "    </tr>\n",
       "  </tbody>\n",
       "</table>\n",
       "<p>43921 rows × 14 columns</p>\n",
       "</div>"
      ],
      "text/plain": [
       "          시도  시군구 계약종별    년도  월        전력 사용량     확진자  평균기온  평균현지기압  평균상대습도  \\\n",
       "0      서울특별시  종로구  주택용  2015  1  2.414819e+07     0.0  -0.9  1013.8      56   \n",
       "1      서울특별시  종로구  일반용  2015  1  1.181337e+08     0.0  -0.9  1013.8      56   \n",
       "2      서울특별시  종로구  교육용  2015  1  9.619909e+06     0.0  -0.9  1013.8      56   \n",
       "3      서울특별시  종로구  산업용  2015  1  6.580369e+06     0.0  -0.9  1013.8      56   \n",
       "4      서울특별시  종로구  농사용  2015  1  2.848000e+03     0.0  -0.9  1013.8      56   \n",
       "...      ...  ...  ...   ... ..           ...     ...   ...     ...     ...   \n",
       "43916  울산광역시  울주군  교육용  2022  1  9.139668e+06  2164.0   2.6  1012.6      39   \n",
       "43917  울산광역시  울주군  산업용  2022  1  1.030417e+09  2164.0   2.6  1012.6      39   \n",
       "43918  울산광역시  울주군  농사용  2022  1  6.842901e+06  2164.0   2.6  1012.6      39   \n",
       "43919  울산광역시  울주군  가로등  2022  1  2.703994e+06  2164.0   2.6  1012.6      39   \n",
       "43920  울산광역시  울주군  심 야  2022  1  6.547839e+06  2164.0   2.6  1012.6      39   \n",
       "\n",
       "       월합강수량  평균풍속  합계 일조시간    일조율  \n",
       "0       11.3   2.6    193.3  62.94  \n",
       "1       11.3   2.6    193.3  62.94  \n",
       "2       11.3   2.6    193.3  62.94  \n",
       "3       11.3   2.6    193.3  62.94  \n",
       "4       11.3   2.6    193.3  62.94  \n",
       "...      ...   ...      ...    ...  \n",
       "43916    0.9   2.3    235.2  75.34  \n",
       "43917    0.9   2.3    235.2  75.34  \n",
       "43918    0.9   2.3    235.2  75.34  \n",
       "43919    0.9   2.3    235.2  75.34  \n",
       "43920    0.9   2.3    235.2  75.34  \n",
       "\n",
       "[43921 rows x 14 columns]"
      ]
     },
     "execution_count": 7,
     "metadata": {},
     "output_type": "execute_result"
    }
   ],
   "source": [
    "df"
   ]
  },
  {
   "cell_type": "code",
   "execution_count": 8,
   "id": "e01e8fb5",
   "metadata": {},
   "outputs": [
    {
     "data": {
      "text/html": [
       "<div>\n",
       "<style scoped>\n",
       "    .dataframe tbody tr th:only-of-type {\n",
       "        vertical-align: middle;\n",
       "    }\n",
       "\n",
       "    .dataframe tbody tr th {\n",
       "        vertical-align: top;\n",
       "    }\n",
       "\n",
       "    .dataframe thead th {\n",
       "        text-align: right;\n",
       "    }\n",
       "</style>\n",
       "<table border=\"1\" class=\"dataframe\">\n",
       "  <thead>\n",
       "    <tr style=\"text-align: right;\">\n",
       "      <th></th>\n",
       "      <th>년도</th>\n",
       "      <th>월</th>\n",
       "      <th>전력 사용량</th>\n",
       "      <th>확진자</th>\n",
       "      <th>평균기온</th>\n",
       "      <th>평균현지기압</th>\n",
       "      <th>평균상대습도</th>\n",
       "      <th>월합강수량</th>\n",
       "      <th>평균풍속</th>\n",
       "      <th>합계 일조시간</th>\n",
       "      <th>일조율</th>\n",
       "    </tr>\n",
       "  </thead>\n",
       "  <tbody>\n",
       "    <tr>\n",
       "      <th>count</th>\n",
       "      <td>43921.000000</td>\n",
       "      <td>43921.000000</td>\n",
       "      <td>4.392100e+04</td>\n",
       "      <td>43921.000000</td>\n",
       "      <td>43921.000000</td>\n",
       "      <td>43921.000000</td>\n",
       "      <td>43921.000000</td>\n",
       "      <td>43921.000000</td>\n",
       "      <td>43921.000000</td>\n",
       "      <td>43921.000000</td>\n",
       "      <td>43921.000000</td>\n",
       "    </tr>\n",
       "    <tr>\n",
       "      <th>mean</th>\n",
       "      <td>2018.046265</td>\n",
       "      <td>6.435259</td>\n",
       "      <td>2.544570e+07</td>\n",
       "      <td>1342.984062</td>\n",
       "      <td>13.937419</td>\n",
       "      <td>1007.613834</td>\n",
       "      <td>63.920152</td>\n",
       "      <td>103.340801</td>\n",
       "      <td>2.420605</td>\n",
       "      <td>208.272116</td>\n",
       "      <td>57.190450</td>\n",
       "    </tr>\n",
       "    <tr>\n",
       "      <th>std</th>\n",
       "      <td>2.034706</td>\n",
       "      <td>3.482608</td>\n",
       "      <td>7.712822e+07</td>\n",
       "      <td>6418.048896</td>\n",
       "      <td>9.214738</td>\n",
       "      <td>6.492297</td>\n",
       "      <td>10.942686</td>\n",
       "      <td>112.037967</td>\n",
       "      <td>0.643917</td>\n",
       "      <td>42.300588</td>\n",
       "      <td>11.922831</td>\n",
       "    </tr>\n",
       "    <tr>\n",
       "      <th>min</th>\n",
       "      <td>2015.000000</td>\n",
       "      <td>1.000000</td>\n",
       "      <td>-3.138182e+06</td>\n",
       "      <td>0.000000</td>\n",
       "      <td>-4.000000</td>\n",
       "      <td>996.000000</td>\n",
       "      <td>39.000000</td>\n",
       "      <td>0.000000</td>\n",
       "      <td>0.900000</td>\n",
       "      <td>69.500000</td>\n",
       "      <td>15.720000</td>\n",
       "    </tr>\n",
       "    <tr>\n",
       "      <th>25%</th>\n",
       "      <td>2016.000000</td>\n",
       "      <td>3.000000</td>\n",
       "      <td>9.235820e+05</td>\n",
       "      <td>0.000000</td>\n",
       "      <td>6.300000</td>\n",
       "      <td>1001.300000</td>\n",
       "      <td>56.000000</td>\n",
       "      <td>29.100000</td>\n",
       "      <td>2.000000</td>\n",
       "      <td>182.000000</td>\n",
       "      <td>50.870000</td>\n",
       "    </tr>\n",
       "    <tr>\n",
       "      <th>50%</th>\n",
       "      <td>2018.000000</td>\n",
       "      <td>6.000000</td>\n",
       "      <td>3.455774e+06</td>\n",
       "      <td>0.000000</td>\n",
       "      <td>14.500000</td>\n",
       "      <td>1008.600000</td>\n",
       "      <td>63.000000</td>\n",
       "      <td>67.100000</td>\n",
       "      <td>2.400000</td>\n",
       "      <td>208.600000</td>\n",
       "      <td>58.640000</td>\n",
       "    </tr>\n",
       "    <tr>\n",
       "      <th>75%</th>\n",
       "      <td>2020.000000</td>\n",
       "      <td>9.000000</td>\n",
       "      <td>2.947823e+07</td>\n",
       "      <td>35.000000</td>\n",
       "      <td>22.400000</td>\n",
       "      <td>1013.500000</td>\n",
       "      <td>72.000000</td>\n",
       "      <td>139.600000</td>\n",
       "      <td>2.900000</td>\n",
       "      <td>233.800000</td>\n",
       "      <td>66.140000</td>\n",
       "    </tr>\n",
       "    <tr>\n",
       "      <th>max</th>\n",
       "      <td>2022.000000</td>\n",
       "      <td>12.000000</td>\n",
       "      <td>1.365568e+09</td>\n",
       "      <td>70942.000000</td>\n",
       "      <td>29.000000</td>\n",
       "      <td>1019.700000</td>\n",
       "      <td>94.000000</td>\n",
       "      <td>796.800000</td>\n",
       "      <td>4.000000</td>\n",
       "      <td>316.700000</td>\n",
       "      <td>82.570000</td>\n",
       "    </tr>\n",
       "  </tbody>\n",
       "</table>\n",
       "</div>"
      ],
      "text/plain": [
       "                 년도             월        전력 사용량           확진자          평균기온  \\\n",
       "count  43921.000000  43921.000000  4.392100e+04  43921.000000  43921.000000   \n",
       "mean    2018.046265      6.435259  2.544570e+07   1342.984062     13.937419   \n",
       "std        2.034706      3.482608  7.712822e+07   6418.048896      9.214738   \n",
       "min     2015.000000      1.000000 -3.138182e+06      0.000000     -4.000000   \n",
       "25%     2016.000000      3.000000  9.235820e+05      0.000000      6.300000   \n",
       "50%     2018.000000      6.000000  3.455774e+06      0.000000     14.500000   \n",
       "75%     2020.000000      9.000000  2.947823e+07     35.000000     22.400000   \n",
       "max     2022.000000     12.000000  1.365568e+09  70942.000000     29.000000   \n",
       "\n",
       "             평균현지기압        평균상대습도         월합강수량          평균풍속       합계 일조시간  \\\n",
       "count  43921.000000  43921.000000  43921.000000  43921.000000  43921.000000   \n",
       "mean    1007.613834     63.920152    103.340801      2.420605    208.272116   \n",
       "std        6.492297     10.942686    112.037967      0.643917     42.300588   \n",
       "min      996.000000     39.000000      0.000000      0.900000     69.500000   \n",
       "25%     1001.300000     56.000000     29.100000      2.000000    182.000000   \n",
       "50%     1008.600000     63.000000     67.100000      2.400000    208.600000   \n",
       "75%     1013.500000     72.000000    139.600000      2.900000    233.800000   \n",
       "max     1019.700000     94.000000    796.800000      4.000000    316.700000   \n",
       "\n",
       "                일조율  \n",
       "count  43921.000000  \n",
       "mean      57.190450  \n",
       "std       11.922831  \n",
       "min       15.720000  \n",
       "25%       50.870000  \n",
       "50%       58.640000  \n",
       "75%       66.140000  \n",
       "max       82.570000  "
      ]
     },
     "execution_count": 8,
     "metadata": {},
     "output_type": "execute_result"
    }
   ],
   "source": [
    "df.describe()"
   ]
  },
  {
   "cell_type": "code",
   "execution_count": 9,
   "id": "b600a006",
   "metadata": {
    "scrolled": true
   },
   "outputs": [
    {
     "data": {
      "text/plain": [
       "-3138182.0    1\n",
       "-915395.0     1\n",
       "Name: 전력 사용량, dtype: int64"
      ]
     },
     "execution_count": 9,
     "metadata": {},
     "output_type": "execute_result"
    }
   ],
   "source": [
    "df[df['전력 사용량']<0]['전력 사용량'].value_counts()"
   ]
  },
  {
   "cell_type": "code",
   "execution_count": 10,
   "id": "cf9bc9ce",
   "metadata": {},
   "outputs": [],
   "source": [
    "df['전력 사용량'] = df['전력 사용량'].replace({73111768.0 : 34986793.0, -3138182.0 : 34986793.0, 53994846.0:26539725.5, -915395.0:26539725.5 })"
   ]
  },
  {
   "cell_type": "code",
   "execution_count": 11,
   "id": "7cce1dfa",
   "metadata": {},
   "outputs": [
    {
     "data": {
      "text/plain": [
       "Series([], Name: 시도, dtype: int64)"
      ]
     },
     "metadata": {},
     "output_type": "display_data"
    },
    {
     "data": {
      "text/plain": [
       "Series([], Name: 시군구, dtype: int64)"
      ]
     },
     "metadata": {},
     "output_type": "display_data"
    },
    {
     "data": {
      "text/plain": [
       "Series([], Name: 년도, dtype: int64)"
      ]
     },
     "metadata": {},
     "output_type": "display_data"
    },
    {
     "data": {
      "text/plain": [
       "Series([], Name: 계약종별, dtype: int64)"
      ]
     },
     "metadata": {},
     "output_type": "display_data"
    }
   ],
   "source": [
    "display(df[df['전력 사용량']<0]['시도'].value_counts(), df[df['전력 사용량']<0]['시군구'].value_counts(),\n",
    "df[df['전력 사용량']<0]['년도'].value_counts(), df[df['전력 사용량']<0]['계약종별'].value_counts())"
   ]
  },
  {
   "cell_type": "code",
   "execution_count": 12,
   "id": "e41df7e7",
   "metadata": {},
   "outputs": [],
   "source": [
    "y = df['전력 사용량']"
   ]
  },
  {
   "cell_type": "code",
   "execution_count": 13,
   "id": "6fe9a9e0",
   "metadata": {},
   "outputs": [
    {
     "data": {
      "text/plain": [
       "<AxesSubplot:>"
      ]
     },
     "execution_count": 13,
     "metadata": {},
     "output_type": "execute_result"
    },
    {
     "data": {
      "image/png": "[encoded data removed]",
      "text/plain": [
       "<Figure size 432x288 with 1 Axes>"
      ]
     },
     "metadata": {
      "needs_background": "light"
     },
     "output_type": "display_data"
    }
   ],
   "source": [
    "y.hist(bins=100)"
   ]
  },
  {
   "cell_type": "code",
   "execution_count": 14,
   "id": "aa70bb9b",
   "metadata": {},
   "outputs": [
    {
     "data": {
      "text/plain": [
       "10.893075662083326"
      ]
     },
     "execution_count": 14,
     "metadata": {},
     "output_type": "execute_result"
    }
   ],
   "source": [
    "y.skew() # 왜도 확인 (양의 값 => 오른쪽 꼬리가 긴 분포 => log변환)"
   ]
  },
  {
   "cell_type": "code",
   "execution_count": 15,
   "id": "05c71211",
   "metadata": {},
   "outputs": [],
   "source": [
    "log_y = np.log1p(y+1e-05)"
   ]
  },
  {
   "cell_type": "code",
   "execution_count": 16,
   "id": "80066ff1",
   "metadata": {},
   "outputs": [
    {
     "data": {
      "text/plain": [
       "<AxesSubplot:>"
      ]
     },
     "execution_count": 16,
     "metadata": {},
     "output_type": "execute_result"
    },
    {
     "data": {
      "image/png": "[encoded data removed]",
      "text/plain": [
       "<Figure size 432x288 with 1 Axes>"
      ]
     },
     "metadata": {
      "needs_background": "light"
     },
     "output_type": "display_data"
    }
   ],
   "source": [
    "log_y.hist(bins=100)"
   ]
  },
  {
   "cell_type": "code",
   "execution_count": 17,
   "id": "398ab6f9",
   "metadata": {},
   "outputs": [
    {
     "data": {
      "text/plain": [
       "-0.7844020546945241"
      ]
     },
     "execution_count": 17,
     "metadata": {},
     "output_type": "execute_result"
    }
   ],
   "source": [
    "log_y.skew()  # 왜도 확인 (0에 가까운 값 가짐)"
   ]
  },
  {
   "cell_type": "code",
   "execution_count": 18,
   "id": "9b7696ad",
   "metadata": {},
   "outputs": [],
   "source": [
    "# X, y로 나누기\n",
    "y = log_y\n",
    "X = df.drop(['전력 사용량', '합계 일조시간'], axis=1)"
   ]
  },
  {
   "cell_type": "code",
   "execution_count": 19,
   "id": "ba3f977c",
   "metadata": {},
   "outputs": [],
   "source": [
    "# 데이터 나누기\n",
    "X_train, X_test, y_train, y_test = train_test_split(X, y, random_state=42, test_size=0.3)"
   ]
  },
  {
   "cell_type": "code",
   "execution_count": 20,
   "id": "ee790d9b",
   "metadata": {},
   "outputs": [],
   "source": [
    "resultID = X_test[['시도', '시군구', '계약종별', '년도', '월']]"
   ]
  },
  {
   "cell_type": "code",
   "execution_count": 21,
   "id": "81bf41d4",
   "metadata": {},
   "outputs": [],
   "source": [
    "X_train.drop('년도', axis=1, inplace=True)"
   ]
  },
  {
   "cell_type": "code",
   "execution_count": 22,
   "id": "410a1653",
   "metadata": {},
   "outputs": [],
   "source": [
    "X_test.drop('년도', axis=1, inplace=True)"
   ]
  },
  {
   "cell_type": "code",
   "execution_count": 23,
   "id": "0b524826",
   "metadata": {},
   "outputs": [
    {
     "name": "stdout",
     "output_type": "stream",
     "text": [
      "원-핫 인코딩 전 (13177, 11)\n",
      "원-핫 인코딩 후 (13177, 75)\n"
     ]
    }
   ],
   "source": [
    "print('원-핫 인코딩 전', X_test.shape)\n",
    "test_ohe = pd.get_dummies(X_test)\n",
    "print('원-핫 인코딩 후', test_ohe.shape)"
   ]
  },
  {
   "cell_type": "code",
   "execution_count": 24,
   "id": "b5877847",
   "metadata": {},
   "outputs": [
    {
     "name": "stdout",
     "output_type": "stream",
     "text": [
      "원-핫 인코딩 전 (30744, 11)\n",
      "원-핫 인코딩 후 (30744, 75)\n"
     ]
    }
   ],
   "source": [
    "print('원-핫 인코딩 전', X_train.shape)\n",
    "train_ohe = pd.get_dummies(X_train)\n",
    "print('원-핫 인코딩 후', train_ohe.shape)"
   ]
  },
  {
   "cell_type": "markdown",
   "id": "10d0a2fc",
   "metadata": {},
   "source": [
    "train_ohe"
   ]
  },
  {
   "cell_type": "code",
   "execution_count": 26,
   "id": "48e1f157",
   "metadata": {},
   "outputs": [
    {
     "data": {
      "text/plain": [
       "9123     13.761801\n",
       "32601    15.810252\n",
       "35443    14.552234\n",
       "28175    14.736753\n",
       "21093    18.000120\n",
       "           ...    \n",
       "24212    13.566177\n",
       "34452    13.849158\n",
       "24681    13.849830\n",
       "34405    13.270537\n",
       "26792    14.277444\n",
       "Name: 전력 사용량, Length: 13177, dtype: float64"
      ]
     },
     "execution_count": 26,
     "metadata": {},
     "output_type": "execute_result"
    }
   ],
   "source": [
    "y_test"
   ]
  },
  {
   "cell_type": "code",
   "execution_count": 27,
   "id": "13266b71",
   "metadata": {},
   "outputs": [],
   "source": [
    "# 단일 모델의 RMSE 값 반환\n",
    "def get_rmse(model): # 학습된 모델을 받아서 예측\n",
    "    pred = np.expm1(model.predict(test_ohe))\n",
    "    mse = mean_squared_error(np.expm1(y_test), pred)\n",
    "    rmse = np.sqrt(mse)\n",
    "\n",
    "    print(model.__class__.__name__, 'RMSE :', np.round(rmse, 3))\n",
    "    \n",
    "    return rmse\n",
    "\n",
    "# 여러 모델의 RMSE 값 반환\n",
    "def get_rmses(models):\n",
    "    rmses = []\n",
    "    for model in models:\n",
    "        rmse = get_rmse(model)\n",
    "        rmses.append(rmse)\n",
    "    return rmses"
   ]
  },
  {
   "cell_type": "code",
   "execution_count": 28,
   "id": "717cf824",
   "metadata": {},
   "outputs": [
    {
     "name": "stdout",
     "output_type": "stream",
     "text": [
      "RandomForestRegressor RMSE : 6574923.738\n",
      "Ridge RMSE : 79066728.832\n",
      "Lasso RMSE : 86296044.006\n"
     ]
    },
    {
     "data": {
      "text/plain": [
       "[6574923.737587536, 79066728.83158578, 86296044.00573447]"
      ]
     },
     "execution_count": 28,
     "metadata": {},
     "output_type": "execute_result"
    }
   ],
   "source": [
    "from sklearn.linear_model import LinearRegression, Ridge, Lasso\n",
    "from sklearn.model_selection import train_test_split\n",
    "from sklearn.metrics import mean_squared_error\n",
    "\n",
    "rf = RandomForestRegressor()\n",
    "rf.fit(train_ohe, y_train)\n",
    "\n",
    "ridge = Ridge()\n",
    "ridge.fit(train_ohe, y_train)\n",
    "\n",
    "lasso = Lasso()\n",
    "lasso.fit(train_ohe, y_train)\n",
    "\n",
    "models = [lr, ridge, lasso]\n",
    "\n",
    "get_rmses(models)"
   ]
  },
  {
   "cell_type": "code",
   "execution_count": 56,
   "id": "87c956e2",
   "metadata": {},
   "outputs": [
    {
     "data": {
      "text/plain": [
       "3706778.6883232733"
      ]
     },
     "execution_count": 56,
     "metadata": {},
     "output_type": "execute_result"
    }
   ],
   "source": [
    "np.expm1(y_test.mean())"
   ]
  },
  {
   "cell_type": "code",
   "execution_count": 29,
   "id": "dc1b7318",
   "metadata": {},
   "outputs": [],
   "source": [
    "sido = resultID['시도']"
   ]
  },
  {
   "cell_type": "code",
   "execution_count": 30,
   "id": "b58340b2",
   "metadata": {},
   "outputs": [],
   "source": [
    "sigun = resultID['시군구']"
   ]
  },
  {
   "cell_type": "code",
   "execution_count": 31,
   "id": "660a1a8d",
   "metadata": {},
   "outputs": [],
   "source": [
    "g = resultID['계약종별']"
   ]
  },
  {
   "cell_type": "code",
   "execution_count": 32,
   "id": "d8dc646a",
   "metadata": {},
   "outputs": [],
   "source": [
    "year = resultID['년도']"
   ]
  },
  {
   "cell_type": "code",
   "execution_count": 33,
   "id": "8dbb6977",
   "metadata": {},
   "outputs": [],
   "source": [
    "month = resultID['월']"
   ]
  },
  {
   "cell_type": "code",
   "execution_count": 40,
   "id": "b9c2f040",
   "metadata": {
    "scrolled": false
   },
   "outputs": [],
   "source": [
    "result = np.expm1(rf.predict(test_ohe))"
   ]
  },
  {
   "cell_type": "code",
   "execution_count": 41,
   "id": "a5fb0e8b",
   "metadata": {},
   "outputs": [
    {
     "data": {
      "text/plain": [
       "0"
      ]
     },
     "execution_count": 41,
     "metadata": {},
     "output_type": "execute_result"
    }
   ],
   "source": [
    "y_test.isna().sum()"
   ]
  },
  {
   "cell_type": "code",
   "execution_count": 42,
   "id": "23ee771b",
   "metadata": {},
   "outputs": [
    {
     "data": {
      "text/plain": [
       "9123     13.761801\n",
       "32601    15.810252\n",
       "35443    14.552234\n",
       "28175    14.736753\n",
       "21093    18.000120\n",
       "           ...    \n",
       "24212    13.566177\n",
       "34452    13.849158\n",
       "24681    13.849830\n",
       "34405    13.270537\n",
       "26792    14.277444\n",
       "Name: 전력 사용량, Length: 13177, dtype: float64"
      ]
     },
     "execution_count": 42,
     "metadata": {},
     "output_type": "execute_result"
    }
   ],
   "source": [
    "y_test"
   ]
  },
  {
   "cell_type": "code",
   "execution_count": null,
   "id": "458d0878",
   "metadata": {},
   "outputs": [],
   "source": [
    "# nmae : 오류 찾아보기"
   ]
  },
  {
   "cell_type": "code",
   "execution_count": 45,
   "id": "65d195f2",
   "metadata": {},
   "outputs": [
    {
     "data": {
      "text/plain": [
       "<AxesSubplot:xlabel='전력 사용량', ylabel='Count'>"
      ]
     },
     "execution_count": 45,
     "metadata": {},
     "output_type": "execute_result"
    },
    {
     "name": "stderr",
     "output_type": "stream",
     "text": [
      "Font 'default' does not have a glyph for '-' [U+2212], substituting with a dummy symbol.\n",
      "Font 'default' does not have a glyph for '-' [U+2212], substituting with a dummy symbol.\n",
      "Font 'default' does not have a glyph for '-' [U+2212], substituting with a dummy symbol.\n",
      "Font 'default' does not have a glyph for '-' [U+2212], substituting with a dummy symbol.\n",
      "Font 'default' does not have a glyph for '-' [U+2212], substituting with a dummy symbol.\n",
      "Font 'default' does not have a glyph for '-' [U+2212], substituting with a dummy symbol.\n",
      "Font 'default' does not have a glyph for '-' [U+2212], substituting with a dummy symbol.\n",
      "Font 'default' does not have a glyph for '-' [U+2212], substituting with a dummy symbol.\n"
     ]
    },
    {
     "data": {
      "image/png": "[encoded data removed]",
      "text/plain": [
       "<Figure size 432x288 with 1 Axes>"
      ]
     },
     "metadata": {
      "needs_background": "light"
     },
     "output_type": "display_data"
    }
   ],
   "source": [
    "sns.histplot(result, color = 'red', alpha = 0.5,log_scale=True)\n",
    "sns.histplot(np.expm1(y_test+1e-05), color = 'skyblue', alpha = 0.3, log_scale=True)"
   ]
  },
  {
   "cell_type": "code",
   "execution_count": 50,
   "id": "d00c009b",
   "metadata": {},
   "outputs": [
    {
     "name": "stdout",
     "output_type": "stream",
     "text": [
      "r2_score :  0.9937499571297939\n"
     ]
    }
   ],
   "source": [
    "from sklearn.metrics import roc_auc_score, r2_score\n",
    "\n",
    "r2 = r2_score(np.expm1(y_test), result)\n",
    "print('r2_score : ', r2)"
   ]
  },
  {
   "cell_type": "code",
   "execution_count": 52,
   "id": "b8938cfa",
   "metadata": {},
   "outputs": [
    {
     "data": {
      "text/html": [
       "<div>\n",
       "<style scoped>\n",
       "    .dataframe tbody tr th:only-of-type {\n",
       "        vertical-align: middle;\n",
       "    }\n",
       "\n",
       "    .dataframe tbody tr th {\n",
       "        vertical-align: top;\n",
       "    }\n",
       "\n",
       "    .dataframe thead th {\n",
       "        text-align: right;\n",
       "    }\n",
       "</style>\n",
       "<table border=\"1\" class=\"dataframe\">\n",
       "  <thead>\n",
       "    <tr style=\"text-align: right;\">\n",
       "      <th></th>\n",
       "      <th>시도</th>\n",
       "      <th>시군구</th>\n",
       "      <th>계약종별</th>\n",
       "      <th>년도</th>\n",
       "      <th>월</th>\n",
       "      <th>전력 사용량 예측</th>\n",
       "    </tr>\n",
       "  </thead>\n",
       "  <tbody>\n",
       "    <tr>\n",
       "      <th>9123</th>\n",
       "      <td>부산광역시</td>\n",
       "      <td>남구</td>\n",
       "      <td>가로등</td>\n",
       "      <td>2016</td>\n",
       "      <td>8</td>\n",
       "      <td>9.084768e+05</td>\n",
       "    </tr>\n",
       "    <tr>\n",
       "      <th>32601</th>\n",
       "      <td>서울특별시</td>\n",
       "      <td>성북구</td>\n",
       "      <td>산업용</td>\n",
       "      <td>2020</td>\n",
       "      <td>10</td>\n",
       "      <td>7.786528e+06</td>\n",
       "    </tr>\n",
       "    <tr>\n",
       "      <th>35443</th>\n",
       "      <td>인천광역시</td>\n",
       "      <td>옹진군</td>\n",
       "      <td>주택용</td>\n",
       "      <td>2020</td>\n",
       "      <td>5</td>\n",
       "      <td>2.043421e+06</td>\n",
       "    </tr>\n",
       "    <tr>\n",
       "      <th>28175</th>\n",
       "      <td>부산광역시</td>\n",
       "      <td>북구</td>\n",
       "      <td>교육용</td>\n",
       "      <td>2019</td>\n",
       "      <td>12</td>\n",
       "      <td>2.265057e+06</td>\n",
       "    </tr>\n",
       "    <tr>\n",
       "      <th>21093</th>\n",
       "      <td>부산광역시</td>\n",
       "      <td>해운대구</td>\n",
       "      <td>일반용</td>\n",
       "      <td>2018</td>\n",
       "      <td>4</td>\n",
       "      <td>6.487131e+07</td>\n",
       "    </tr>\n",
       "    <tr>\n",
       "      <th>...</th>\n",
       "      <td>...</td>\n",
       "      <td>...</td>\n",
       "      <td>...</td>\n",
       "      <td>...</td>\n",
       "      <td>...</td>\n",
       "      <td>...</td>\n",
       "    </tr>\n",
       "    <tr>\n",
       "      <th>24212</th>\n",
       "      <td>대전광역시</td>\n",
       "      <td>대덕구</td>\n",
       "      <td>가로등</td>\n",
       "      <td>2018</td>\n",
       "      <td>7</td>\n",
       "      <td>7.923232e+05</td>\n",
       "    </tr>\n",
       "    <tr>\n",
       "      <th>34452</th>\n",
       "      <td>대구광역시</td>\n",
       "      <td>남구</td>\n",
       "      <td>산업용</td>\n",
       "      <td>2020</td>\n",
       "      <td>1</td>\n",
       "      <td>1.077012e+06</td>\n",
       "    </tr>\n",
       "    <tr>\n",
       "      <th>24681</th>\n",
       "      <td>울산광역시</td>\n",
       "      <td>북구</td>\n",
       "      <td>가로등</td>\n",
       "      <td>2018</td>\n",
       "      <td>9</td>\n",
       "      <td>9.675179e+05</td>\n",
       "    </tr>\n",
       "    <tr>\n",
       "      <th>34405</th>\n",
       "      <td>부산광역시</td>\n",
       "      <td>연제구</td>\n",
       "      <td>가로등</td>\n",
       "      <td>2020</td>\n",
       "      <td>12</td>\n",
       "      <td>6.154498e+05</td>\n",
       "    </tr>\n",
       "    <tr>\n",
       "      <th>26792</th>\n",
       "      <td>서울특별시</td>\n",
       "      <td>강서구</td>\n",
       "      <td>가로등</td>\n",
       "      <td>2019</td>\n",
       "      <td>12</td>\n",
       "      <td>1.602303e+06</td>\n",
       "    </tr>\n",
       "  </tbody>\n",
       "</table>\n",
       "<p>13177 rows × 6 columns</p>\n",
       "</div>"
      ],
      "text/plain": [
       "          시도   시군구 계약종별    년도   월     전력 사용량 예측\n",
       "9123   부산광역시    남구  가로등  2016   8  9.084768e+05\n",
       "32601  서울특별시   성북구  산업용  2020  10  7.786528e+06\n",
       "35443  인천광역시   옹진군  주택용  2020   5  2.043421e+06\n",
       "28175  부산광역시    북구  교육용  2019  12  2.265057e+06\n",
       "21093  부산광역시  해운대구  일반용  2018   4  6.487131e+07\n",
       "...      ...   ...  ...   ...  ..           ...\n",
       "24212  대전광역시   대덕구  가로등  2018   7  7.923232e+05\n",
       "34452  대구광역시    남구  산업용  2020   1  1.077012e+06\n",
       "24681  울산광역시    북구  가로등  2018   9  9.675179e+05\n",
       "34405  부산광역시   연제구  가로등  2020  12  6.154498e+05\n",
       "26792  서울특별시   강서구  가로등  2019  12  1.602303e+06\n",
       "\n",
       "[13177 rows x 6 columns]"
      ]
     },
     "execution_count": 52,
     "metadata": {},
     "output_type": "execute_result"
    }
   ],
   "source": [
    "save = pd.DataFrame({'시도': sido, '시군구' : sigun, '계약종별' : g, '년도':year, '월':month, '전력 사용량 예측' : result})\n",
    "save"
   ]
  },
  {
   "cell_type": "code",
   "execution_count": 53,
   "id": "aa524c67",
   "metadata": {},
   "outputs": [
    {
     "data": {
      "text/html": [
       "<div>\n",
       "<style scoped>\n",
       "    .dataframe tbody tr th:only-of-type {\n",
       "        vertical-align: middle;\n",
       "    }\n",
       "\n",
       "    .dataframe tbody tr th {\n",
       "        vertical-align: top;\n",
       "    }\n",
       "\n",
       "    .dataframe thead th {\n",
       "        text-align: right;\n",
       "    }\n",
       "</style>\n",
       "<table border=\"1\" class=\"dataframe\">\n",
       "  <thead>\n",
       "    <tr style=\"text-align: right;\">\n",
       "      <th></th>\n",
       "      <th>시도</th>\n",
       "      <th>시군구</th>\n",
       "      <th>계약종별</th>\n",
       "      <th>년도</th>\n",
       "      <th>월</th>\n",
       "      <th>전력 사용량 예측</th>\n",
       "    </tr>\n",
       "  </thead>\n",
       "  <tbody>\n",
       "    <tr>\n",
       "      <th>0</th>\n",
       "      <td>서울특별시</td>\n",
       "      <td>종로구</td>\n",
       "      <td>주택용</td>\n",
       "      <td>2015</td>\n",
       "      <td>1</td>\n",
       "      <td>2.356263e+07</td>\n",
       "    </tr>\n",
       "    <tr>\n",
       "      <th>1</th>\n",
       "      <td>서울특별시</td>\n",
       "      <td>종로구</td>\n",
       "      <td>일반용</td>\n",
       "      <td>2015</td>\n",
       "      <td>1</td>\n",
       "      <td>1.126204e+08</td>\n",
       "    </tr>\n",
       "    <tr>\n",
       "      <th>4</th>\n",
       "      <td>서울특별시</td>\n",
       "      <td>종로구</td>\n",
       "      <td>농사용</td>\n",
       "      <td>2015</td>\n",
       "      <td>1</td>\n",
       "      <td>4.616760e+03</td>\n",
       "    </tr>\n",
       "    <tr>\n",
       "      <th>6</th>\n",
       "      <td>서울특별시</td>\n",
       "      <td>종로구</td>\n",
       "      <td>심 야</td>\n",
       "      <td>2015</td>\n",
       "      <td>1</td>\n",
       "      <td>3.460389e+06</td>\n",
       "    </tr>\n",
       "    <tr>\n",
       "      <th>7</th>\n",
       "      <td>서울특별시</td>\n",
       "      <td>중구</td>\n",
       "      <td>주택용</td>\n",
       "      <td>2015</td>\n",
       "      <td>1</td>\n",
       "      <td>1.748096e+07</td>\n",
       "    </tr>\n",
       "    <tr>\n",
       "      <th>...</th>\n",
       "      <td>...</td>\n",
       "      <td>...</td>\n",
       "      <td>...</td>\n",
       "      <td>...</td>\n",
       "      <td>...</td>\n",
       "      <td>...</td>\n",
       "    </tr>\n",
       "    <tr>\n",
       "      <th>43893</th>\n",
       "      <td>울산광역시</td>\n",
       "      <td>동구</td>\n",
       "      <td>주택용</td>\n",
       "      <td>2022</td>\n",
       "      <td>1</td>\n",
       "      <td>1.969800e+07</td>\n",
       "    </tr>\n",
       "    <tr>\n",
       "      <th>43900</th>\n",
       "      <td>울산광역시</td>\n",
       "      <td>중구</td>\n",
       "      <td>주택용</td>\n",
       "      <td>2022</td>\n",
       "      <td>1</td>\n",
       "      <td>2.856667e+07</td>\n",
       "    </tr>\n",
       "    <tr>\n",
       "      <th>43903</th>\n",
       "      <td>울산광역시</td>\n",
       "      <td>중구</td>\n",
       "      <td>산업용</td>\n",
       "      <td>2022</td>\n",
       "      <td>1</td>\n",
       "      <td>2.589706e+06</td>\n",
       "    </tr>\n",
       "    <tr>\n",
       "      <th>43913</th>\n",
       "      <td>울산광역시</td>\n",
       "      <td>남구</td>\n",
       "      <td>심 야</td>\n",
       "      <td>2022</td>\n",
       "      <td>1</td>\n",
       "      <td>1.603604e+06</td>\n",
       "    </tr>\n",
       "    <tr>\n",
       "      <th>43915</th>\n",
       "      <td>울산광역시</td>\n",
       "      <td>울주군</td>\n",
       "      <td>일반용</td>\n",
       "      <td>2022</td>\n",
       "      <td>1</td>\n",
       "      <td>4.025655e+07</td>\n",
       "    </tr>\n",
       "  </tbody>\n",
       "</table>\n",
       "<p>13177 rows × 6 columns</p>\n",
       "</div>"
      ],
      "text/plain": [
       "          시도  시군구 계약종별    년도  월     전력 사용량 예측\n",
       "0      서울특별시  종로구  주택용  2015  1  2.356263e+07\n",
       "1      서울특별시  종로구  일반용  2015  1  1.126204e+08\n",
       "4      서울특별시  종로구  농사용  2015  1  4.616760e+03\n",
       "6      서울특별시  종로구  심 야  2015  1  3.460389e+06\n",
       "7      서울특별시   중구  주택용  2015  1  1.748096e+07\n",
       "...      ...  ...  ...   ... ..           ...\n",
       "43893  울산광역시   동구  주택용  2022  1  1.969800e+07\n",
       "43900  울산광역시   중구  주택용  2022  1  2.856667e+07\n",
       "43903  울산광역시   중구  산업용  2022  1  2.589706e+06\n",
       "43913  울산광역시   남구  심 야  2022  1  1.603604e+06\n",
       "43915  울산광역시  울주군  일반용  2022  1  4.025655e+07\n",
       "\n",
       "[13177 rows x 6 columns]"
      ]
     },
     "execution_count": 53,
     "metadata": {},
     "output_type": "execute_result"
    }
   ],
   "source": [
    "save = save.sort_index()\n",
    "save"
   ]
  },
  {
   "cell_type": "code",
   "execution_count": 54,
   "id": "12199ea1",
   "metadata": {},
   "outputs": [
    {
     "data": {
      "text/html": [
       "<div>\n",
       "<style scoped>\n",
       "    .dataframe tbody tr th:only-of-type {\n",
       "        vertical-align: middle;\n",
       "    }\n",
       "\n",
       "    .dataframe tbody tr th {\n",
       "        vertical-align: top;\n",
       "    }\n",
       "\n",
       "    .dataframe thead th {\n",
       "        text-align: right;\n",
       "    }\n",
       "</style>\n",
       "<table border=\"1\" class=\"dataframe\">\n",
       "  <thead>\n",
       "    <tr style=\"text-align: right;\">\n",
       "      <th></th>\n",
       "      <th>시도</th>\n",
       "      <th>시군구</th>\n",
       "      <th>계약종별</th>\n",
       "      <th>년도</th>\n",
       "      <th>월</th>\n",
       "      <th>전력 사용량 예측</th>\n",
       "    </tr>\n",
       "  </thead>\n",
       "  <tbody>\n",
       "    <tr>\n",
       "      <th>0</th>\n",
       "      <td>서울특별시</td>\n",
       "      <td>종로구</td>\n",
       "      <td>주택용</td>\n",
       "      <td>2015</td>\n",
       "      <td>1</td>\n",
       "      <td>2.356263e+07</td>\n",
       "    </tr>\n",
       "    <tr>\n",
       "      <th>1</th>\n",
       "      <td>서울특별시</td>\n",
       "      <td>종로구</td>\n",
       "      <td>일반용</td>\n",
       "      <td>2015</td>\n",
       "      <td>1</td>\n",
       "      <td>1.126204e+08</td>\n",
       "    </tr>\n",
       "    <tr>\n",
       "      <th>2</th>\n",
       "      <td>서울특별시</td>\n",
       "      <td>종로구</td>\n",
       "      <td>농사용</td>\n",
       "      <td>2015</td>\n",
       "      <td>1</td>\n",
       "      <td>4.616760e+03</td>\n",
       "    </tr>\n",
       "    <tr>\n",
       "      <th>3</th>\n",
       "      <td>서울특별시</td>\n",
       "      <td>종로구</td>\n",
       "      <td>심 야</td>\n",
       "      <td>2015</td>\n",
       "      <td>1</td>\n",
       "      <td>3.460389e+06</td>\n",
       "    </tr>\n",
       "    <tr>\n",
       "      <th>4</th>\n",
       "      <td>서울특별시</td>\n",
       "      <td>중구</td>\n",
       "      <td>주택용</td>\n",
       "      <td>2015</td>\n",
       "      <td>1</td>\n",
       "      <td>1.748096e+07</td>\n",
       "    </tr>\n",
       "    <tr>\n",
       "      <th>...</th>\n",
       "      <td>...</td>\n",
       "      <td>...</td>\n",
       "      <td>...</td>\n",
       "      <td>...</td>\n",
       "      <td>...</td>\n",
       "      <td>...</td>\n",
       "    </tr>\n",
       "    <tr>\n",
       "      <th>13172</th>\n",
       "      <td>울산광역시</td>\n",
       "      <td>동구</td>\n",
       "      <td>주택용</td>\n",
       "      <td>2022</td>\n",
       "      <td>1</td>\n",
       "      <td>1.969800e+07</td>\n",
       "    </tr>\n",
       "    <tr>\n",
       "      <th>13173</th>\n",
       "      <td>울산광역시</td>\n",
       "      <td>중구</td>\n",
       "      <td>주택용</td>\n",
       "      <td>2022</td>\n",
       "      <td>1</td>\n",
       "      <td>2.856667e+07</td>\n",
       "    </tr>\n",
       "    <tr>\n",
       "      <th>13174</th>\n",
       "      <td>울산광역시</td>\n",
       "      <td>중구</td>\n",
       "      <td>산업용</td>\n",
       "      <td>2022</td>\n",
       "      <td>1</td>\n",
       "      <td>2.589706e+06</td>\n",
       "    </tr>\n",
       "    <tr>\n",
       "      <th>13175</th>\n",
       "      <td>울산광역시</td>\n",
       "      <td>남구</td>\n",
       "      <td>심 야</td>\n",
       "      <td>2022</td>\n",
       "      <td>1</td>\n",
       "      <td>1.603604e+06</td>\n",
       "    </tr>\n",
       "    <tr>\n",
       "      <th>13176</th>\n",
       "      <td>울산광역시</td>\n",
       "      <td>울주군</td>\n",
       "      <td>일반용</td>\n",
       "      <td>2022</td>\n",
       "      <td>1</td>\n",
       "      <td>4.025655e+07</td>\n",
       "    </tr>\n",
       "  </tbody>\n",
       "</table>\n",
       "<p>13177 rows × 6 columns</p>\n",
       "</div>"
      ],
      "text/plain": [
       "          시도  시군구 계약종별    년도  월     전력 사용량 예측\n",
       "0      서울특별시  종로구  주택용  2015  1  2.356263e+07\n",
       "1      서울특별시  종로구  일반용  2015  1  1.126204e+08\n",
       "2      서울특별시  종로구  농사용  2015  1  4.616760e+03\n",
       "3      서울특별시  종로구  심 야  2015  1  3.460389e+06\n",
       "4      서울특별시   중구  주택용  2015  1  1.748096e+07\n",
       "...      ...  ...  ...   ... ..           ...\n",
       "13172  울산광역시   동구  주택용  2022  1  1.969800e+07\n",
       "13173  울산광역시   중구  주택용  2022  1  2.856667e+07\n",
       "13174  울산광역시   중구  산업용  2022  1  2.589706e+06\n",
       "13175  울산광역시   남구  심 야  2022  1  1.603604e+06\n",
       "13176  울산광역시  울주군  일반용  2022  1  4.025655e+07\n",
       "\n",
       "[13177 rows x 6 columns]"
      ]
     },
     "execution_count": 54,
     "metadata": {},
     "output_type": "execute_result"
    }
   ],
   "source": [
    "save = save.reset_index()\n",
    "save.drop('index', axis=1, inplace=True)\n",
    "save"
   ]
  },
  {
   "cell_type": "markdown",
   "id": "7c447b66",
   "metadata": {},
   "source": [
    "ANOVA 분석\n",
    "* (계약종별 전력 사용량의 차이) => 일원\n",
    "* (시도별 전력사용량의 차이) => 일원\n",
    "* (시군구별 전력사용량의 차이) => 일원\n",
    "* (계약종별 * 시군구) * 전력 사용량의 차이 => 이원\n",
    "* (계약종별 * 시도) * 전력 사용량의 차이 => 이원"
   ]
  },
  {
   "cell_type": "code",
   "execution_count": null,
   "id": "7d24a00e",
   "metadata": {},
   "outputs": [],
   "source": []
  }
 ],
 "metadata": {
  "kernelspec": {
   "display_name": "Python 3 (ipykernel)",
   "language": "python",
   "name": "python3"
  },
  "language_info": {
   "codemirror_mode": {
    "name": "ipython",
    "version": 3
   },
   "file_extension": ".py",
   "mimetype": "text/x-python",
   "name": "python",
   "nbconvert_exporter": "python",
   "pygments_lexer": "ipython3",
   "version": "3.9.7"
  }
 },
 "nbformat": 4,
 "nbformat_minor": 5
}
